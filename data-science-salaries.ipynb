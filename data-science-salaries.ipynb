{
 "cells": [
  {
   "cell_type": "code",
   "execution_count": 1,
   "id": "722c0096",
   "metadata": {
    "execution": {
     "iopub.execute_input": "2022-06-17T14:07:37.662649Z",
     "iopub.status.busy": "2022-06-17T14:07:37.662058Z",
     "iopub.status.idle": "2022-06-17T14:07:43.731735Z",
     "shell.execute_reply": "2022-06-17T14:07:43.730731Z"
    },
    "papermill": {
     "duration": 6.087717,
     "end_time": "2022-06-17T14:07:43.734843",
     "exception": false,
     "start_time": "2022-06-17T14:07:37.647126",
     "status": "completed"
    },
    "tags": []
   },
   "outputs": [],
   "source": [
    "import pandas as pd\n",
    "import numpy as np\n",
    "import seaborn as sns\n",
    "import matplotlib.pyplot as plt\n",
    "from tensorflow import keras\n",
    "from sklearn.metrics import mean_squared_error"
   ]
  },
  {
   "cell_type": "markdown",
   "id": "aea01766",
   "metadata": {
    "papermill": {
     "duration": 0.012067,
     "end_time": "2022-06-17T14:07:43.759488",
     "exception": false,
     "start_time": "2022-06-17T14:07:43.747421",
     "status": "completed"
    },
    "tags": []
   },
   "source": [
    "# Reading the Dataset and preliminary analysis"
   ]
  },
  {
   "cell_type": "code",
   "execution_count": 2,
   "id": "808f1512",
   "metadata": {
    "execution": {
     "iopub.execute_input": "2022-06-17T14:07:43.785349Z",
     "iopub.status.busy": "2022-06-17T14:07:43.784720Z",
     "iopub.status.idle": "2022-06-17T14:07:43.821074Z",
     "shell.execute_reply": "2022-06-17T14:07:43.820011Z"
    },
    "papermill": {
     "duration": 0.052214,
     "end_time": "2022-06-17T14:07:43.823987",
     "exception": false,
     "start_time": "2022-06-17T14:07:43.771773",
     "status": "completed"
    },
    "tags": []
   },
   "outputs": [
    {
     "data": {
      "text/html": [
       "<div>\n",
       "<style scoped>\n",
       "    .dataframe tbody tr th:only-of-type {\n",
       "        vertical-align: middle;\n",
       "    }\n",
       "\n",
       "    .dataframe tbody tr th {\n",
       "        vertical-align: top;\n",
       "    }\n",
       "\n",
       "    .dataframe thead th {\n",
       "        text-align: right;\n",
       "    }\n",
       "</style>\n",
       "<table border=\"1\" class=\"dataframe\">\n",
       "  <thead>\n",
       "    <tr style=\"text-align: right;\">\n",
       "      <th></th>\n",
       "      <th>Unnamed: 0</th>\n",
       "      <th>work_year</th>\n",
       "      <th>experience_level</th>\n",
       "      <th>employment_type</th>\n",
       "      <th>job_title</th>\n",
       "      <th>salary</th>\n",
       "      <th>salary_currency</th>\n",
       "      <th>salary_in_usd</th>\n",
       "      <th>employee_residence</th>\n",
       "      <th>remote_ratio</th>\n",
       "      <th>company_location</th>\n",
       "      <th>company_size</th>\n",
       "    </tr>\n",
       "  </thead>\n",
       "  <tbody>\n",
       "    <tr>\n",
       "      <th>0</th>\n",
       "      <td>0</td>\n",
       "      <td>2020</td>\n",
       "      <td>MI</td>\n",
       "      <td>FT</td>\n",
       "      <td>Data Scientist</td>\n",
       "      <td>70000</td>\n",
       "      <td>EUR</td>\n",
       "      <td>79833</td>\n",
       "      <td>DE</td>\n",
       "      <td>0</td>\n",
       "      <td>DE</td>\n",
       "      <td>L</td>\n",
       "    </tr>\n",
       "    <tr>\n",
       "      <th>1</th>\n",
       "      <td>1</td>\n",
       "      <td>2020</td>\n",
       "      <td>SE</td>\n",
       "      <td>FT</td>\n",
       "      <td>Machine Learning Scientist</td>\n",
       "      <td>260000</td>\n",
       "      <td>USD</td>\n",
       "      <td>260000</td>\n",
       "      <td>JP</td>\n",
       "      <td>0</td>\n",
       "      <td>JP</td>\n",
       "      <td>S</td>\n",
       "    </tr>\n",
       "    <tr>\n",
       "      <th>2</th>\n",
       "      <td>2</td>\n",
       "      <td>2020</td>\n",
       "      <td>SE</td>\n",
       "      <td>FT</td>\n",
       "      <td>Big Data Engineer</td>\n",
       "      <td>85000</td>\n",
       "      <td>GBP</td>\n",
       "      <td>109024</td>\n",
       "      <td>GB</td>\n",
       "      <td>50</td>\n",
       "      <td>GB</td>\n",
       "      <td>M</td>\n",
       "    </tr>\n",
       "    <tr>\n",
       "      <th>3</th>\n",
       "      <td>3</td>\n",
       "      <td>2020</td>\n",
       "      <td>MI</td>\n",
       "      <td>FT</td>\n",
       "      <td>Product Data Analyst</td>\n",
       "      <td>20000</td>\n",
       "      <td>USD</td>\n",
       "      <td>20000</td>\n",
       "      <td>HN</td>\n",
       "      <td>0</td>\n",
       "      <td>HN</td>\n",
       "      <td>S</td>\n",
       "    </tr>\n",
       "    <tr>\n",
       "      <th>4</th>\n",
       "      <td>4</td>\n",
       "      <td>2020</td>\n",
       "      <td>SE</td>\n",
       "      <td>FT</td>\n",
       "      <td>Machine Learning Engineer</td>\n",
       "      <td>150000</td>\n",
       "      <td>USD</td>\n",
       "      <td>150000</td>\n",
       "      <td>US</td>\n",
       "      <td>50</td>\n",
       "      <td>US</td>\n",
       "      <td>L</td>\n",
       "    </tr>\n",
       "  </tbody>\n",
       "</table>\n",
       "</div>"
      ],
      "text/plain": [
       "   Unnamed: 0  work_year experience_level employment_type  \\\n",
       "0           0       2020               MI              FT   \n",
       "1           1       2020               SE              FT   \n",
       "2           2       2020               SE              FT   \n",
       "3           3       2020               MI              FT   \n",
       "4           4       2020               SE              FT   \n",
       "\n",
       "                    job_title  salary salary_currency  salary_in_usd  \\\n",
       "0              Data Scientist   70000             EUR          79833   \n",
       "1  Machine Learning Scientist  260000             USD         260000   \n",
       "2           Big Data Engineer   85000             GBP         109024   \n",
       "3        Product Data Analyst   20000             USD          20000   \n",
       "4   Machine Learning Engineer  150000             USD         150000   \n",
       "\n",
       "  employee_residence  remote_ratio company_location company_size  \n",
       "0                 DE             0               DE            L  \n",
       "1                 JP             0               JP            S  \n",
       "2                 GB            50               GB            M  \n",
       "3                 HN             0               HN            S  \n",
       "4                 US            50               US            L  "
      ]
     },
     "execution_count": 2,
     "metadata": {},
     "output_type": "execute_result"
    }
   ],
   "source": [
    "df = pd.read_csv('../input/data-science-job-salaries/ds_salaries.csv')\n",
    "df.head()"
   ]
  },
  {
   "cell_type": "code",
   "execution_count": 3,
   "id": "0052a9f1",
   "metadata": {
    "execution": {
     "iopub.execute_input": "2022-06-17T14:07:43.850252Z",
     "iopub.status.busy": "2022-06-17T14:07:43.849881Z",
     "iopub.status.idle": "2022-06-17T14:07:43.871189Z",
     "shell.execute_reply": "2022-06-17T14:07:43.870242Z"
    },
    "papermill": {
     "duration": 0.037102,
     "end_time": "2022-06-17T14:07:43.873287",
     "exception": false,
     "start_time": "2022-06-17T14:07:43.836185",
     "status": "completed"
    },
    "tags": []
   },
   "outputs": [
    {
     "data": {
      "text/html": [
       "<div>\n",
       "<style scoped>\n",
       "    .dataframe tbody tr th:only-of-type {\n",
       "        vertical-align: middle;\n",
       "    }\n",
       "\n",
       "    .dataframe tbody tr th {\n",
       "        vertical-align: top;\n",
       "    }\n",
       "\n",
       "    .dataframe thead th {\n",
       "        text-align: right;\n",
       "    }\n",
       "</style>\n",
       "<table border=\"1\" class=\"dataframe\">\n",
       "  <thead>\n",
       "    <tr style=\"text-align: right;\">\n",
       "      <th></th>\n",
       "      <th>work_year</th>\n",
       "      <th>experience_level</th>\n",
       "      <th>employment_type</th>\n",
       "      <th>job_title</th>\n",
       "      <th>salary</th>\n",
       "      <th>salary_currency</th>\n",
       "      <th>salary_in_usd</th>\n",
       "      <th>employee_residence</th>\n",
       "      <th>remote_ratio</th>\n",
       "      <th>company_location</th>\n",
       "      <th>company_size</th>\n",
       "    </tr>\n",
       "  </thead>\n",
       "  <tbody>\n",
       "    <tr>\n",
       "      <th>0</th>\n",
       "      <td>2020</td>\n",
       "      <td>MI</td>\n",
       "      <td>FT</td>\n",
       "      <td>Data Scientist</td>\n",
       "      <td>70000</td>\n",
       "      <td>EUR</td>\n",
       "      <td>79833</td>\n",
       "      <td>DE</td>\n",
       "      <td>0</td>\n",
       "      <td>DE</td>\n",
       "      <td>L</td>\n",
       "    </tr>\n",
       "    <tr>\n",
       "      <th>1</th>\n",
       "      <td>2020</td>\n",
       "      <td>SE</td>\n",
       "      <td>FT</td>\n",
       "      <td>Machine Learning Scientist</td>\n",
       "      <td>260000</td>\n",
       "      <td>USD</td>\n",
       "      <td>260000</td>\n",
       "      <td>JP</td>\n",
       "      <td>0</td>\n",
       "      <td>JP</td>\n",
       "      <td>S</td>\n",
       "    </tr>\n",
       "    <tr>\n",
       "      <th>2</th>\n",
       "      <td>2020</td>\n",
       "      <td>SE</td>\n",
       "      <td>FT</td>\n",
       "      <td>Big Data Engineer</td>\n",
       "      <td>85000</td>\n",
       "      <td>GBP</td>\n",
       "      <td>109024</td>\n",
       "      <td>GB</td>\n",
       "      <td>50</td>\n",
       "      <td>GB</td>\n",
       "      <td>M</td>\n",
       "    </tr>\n",
       "    <tr>\n",
       "      <th>3</th>\n",
       "      <td>2020</td>\n",
       "      <td>MI</td>\n",
       "      <td>FT</td>\n",
       "      <td>Product Data Analyst</td>\n",
       "      <td>20000</td>\n",
       "      <td>USD</td>\n",
       "      <td>20000</td>\n",
       "      <td>HN</td>\n",
       "      <td>0</td>\n",
       "      <td>HN</td>\n",
       "      <td>S</td>\n",
       "    </tr>\n",
       "    <tr>\n",
       "      <th>4</th>\n",
       "      <td>2020</td>\n",
       "      <td>SE</td>\n",
       "      <td>FT</td>\n",
       "      <td>Machine Learning Engineer</td>\n",
       "      <td>150000</td>\n",
       "      <td>USD</td>\n",
       "      <td>150000</td>\n",
       "      <td>US</td>\n",
       "      <td>50</td>\n",
       "      <td>US</td>\n",
       "      <td>L</td>\n",
       "    </tr>\n",
       "  </tbody>\n",
       "</table>\n",
       "</div>"
      ],
      "text/plain": [
       "   work_year experience_level employment_type                   job_title  \\\n",
       "0       2020               MI              FT              Data Scientist   \n",
       "1       2020               SE              FT  Machine Learning Scientist   \n",
       "2       2020               SE              FT           Big Data Engineer   \n",
       "3       2020               MI              FT        Product Data Analyst   \n",
       "4       2020               SE              FT   Machine Learning Engineer   \n",
       "\n",
       "   salary salary_currency  salary_in_usd employee_residence  remote_ratio  \\\n",
       "0   70000             EUR          79833                 DE             0   \n",
       "1  260000             USD         260000                 JP             0   \n",
       "2   85000             GBP         109024                 GB            50   \n",
       "3   20000             USD          20000                 HN             0   \n",
       "4  150000             USD         150000                 US            50   \n",
       "\n",
       "  company_location company_size  \n",
       "0               DE            L  \n",
       "1               JP            S  \n",
       "2               GB            M  \n",
       "3               HN            S  \n",
       "4               US            L  "
      ]
     },
     "execution_count": 3,
     "metadata": {},
     "output_type": "execute_result"
    }
   ],
   "source": [
    "df = df.drop(columns=['Unnamed: 0'])\n",
    "df.head()"
   ]
  },
  {
   "cell_type": "markdown",
   "id": "c09130af",
   "metadata": {
    "papermill": {
     "duration": 0.0122,
     "end_time": "2022-06-17T14:07:43.897995",
     "exception": false,
     "start_time": "2022-06-17T14:07:43.885795",
     "status": "completed"
    },
    "tags": []
   },
   "source": [
    "We remove this column because is nothing more than just a index for the dataset, so not needed for our analysis"
   ]
  },
  {
   "cell_type": "code",
   "execution_count": 4,
   "id": "92717dea",
   "metadata": {
    "execution": {
     "iopub.execute_input": "2022-06-17T14:07:43.925105Z",
     "iopub.status.busy": "2022-06-17T14:07:43.924470Z",
     "iopub.status.idle": "2022-06-17T14:07:43.929777Z",
     "shell.execute_reply": "2022-06-17T14:07:43.929133Z"
    },
    "papermill": {
     "duration": 0.020674,
     "end_time": "2022-06-17T14:07:43.931465",
     "exception": false,
     "start_time": "2022-06-17T14:07:43.910791",
     "status": "completed"
    },
    "tags": []
   },
   "outputs": [
    {
     "data": {
      "text/plain": [
       "(607, 11)"
      ]
     },
     "execution_count": 4,
     "metadata": {},
     "output_type": "execute_result"
    }
   ],
   "source": [
    "df.shape"
   ]
  },
  {
   "cell_type": "code",
   "execution_count": 5,
   "id": "69e244ee",
   "metadata": {
    "execution": {
     "iopub.execute_input": "2022-06-17T14:07:43.958778Z",
     "iopub.status.busy": "2022-06-17T14:07:43.958132Z",
     "iopub.status.idle": "2022-06-17T14:07:43.986835Z",
     "shell.execute_reply": "2022-06-17T14:07:43.985984Z"
    },
    "papermill": {
     "duration": 0.044765,
     "end_time": "2022-06-17T14:07:43.989005",
     "exception": false,
     "start_time": "2022-06-17T14:07:43.944240",
     "status": "completed"
    },
    "tags": []
   },
   "outputs": [
    {
     "data": {
      "text/html": [
       "<div>\n",
       "<style scoped>\n",
       "    .dataframe tbody tr th:only-of-type {\n",
       "        vertical-align: middle;\n",
       "    }\n",
       "\n",
       "    .dataframe tbody tr th {\n",
       "        vertical-align: top;\n",
       "    }\n",
       "\n",
       "    .dataframe thead th {\n",
       "        text-align: right;\n",
       "    }\n",
       "</style>\n",
       "<table border=\"1\" class=\"dataframe\">\n",
       "  <thead>\n",
       "    <tr style=\"text-align: right;\">\n",
       "      <th></th>\n",
       "      <th>work_year</th>\n",
       "      <th>salary</th>\n",
       "      <th>salary_in_usd</th>\n",
       "      <th>remote_ratio</th>\n",
       "    </tr>\n",
       "  </thead>\n",
       "  <tbody>\n",
       "    <tr>\n",
       "      <th>count</th>\n",
       "      <td>607.000000</td>\n",
       "      <td>6.070000e+02</td>\n",
       "      <td>607.000000</td>\n",
       "      <td>607.00000</td>\n",
       "    </tr>\n",
       "    <tr>\n",
       "      <th>mean</th>\n",
       "      <td>2021.405272</td>\n",
       "      <td>3.240001e+05</td>\n",
       "      <td>112297.869852</td>\n",
       "      <td>70.92257</td>\n",
       "    </tr>\n",
       "    <tr>\n",
       "      <th>std</th>\n",
       "      <td>0.692133</td>\n",
       "      <td>1.544357e+06</td>\n",
       "      <td>70957.259411</td>\n",
       "      <td>40.70913</td>\n",
       "    </tr>\n",
       "    <tr>\n",
       "      <th>min</th>\n",
       "      <td>2020.000000</td>\n",
       "      <td>4.000000e+03</td>\n",
       "      <td>2859.000000</td>\n",
       "      <td>0.00000</td>\n",
       "    </tr>\n",
       "    <tr>\n",
       "      <th>25%</th>\n",
       "      <td>2021.000000</td>\n",
       "      <td>7.000000e+04</td>\n",
       "      <td>62726.000000</td>\n",
       "      <td>50.00000</td>\n",
       "    </tr>\n",
       "    <tr>\n",
       "      <th>50%</th>\n",
       "      <td>2022.000000</td>\n",
       "      <td>1.150000e+05</td>\n",
       "      <td>101570.000000</td>\n",
       "      <td>100.00000</td>\n",
       "    </tr>\n",
       "    <tr>\n",
       "      <th>75%</th>\n",
       "      <td>2022.000000</td>\n",
       "      <td>1.650000e+05</td>\n",
       "      <td>150000.000000</td>\n",
       "      <td>100.00000</td>\n",
       "    </tr>\n",
       "    <tr>\n",
       "      <th>max</th>\n",
       "      <td>2022.000000</td>\n",
       "      <td>3.040000e+07</td>\n",
       "      <td>600000.000000</td>\n",
       "      <td>100.00000</td>\n",
       "    </tr>\n",
       "  </tbody>\n",
       "</table>\n",
       "</div>"
      ],
      "text/plain": [
       "         work_year        salary  salary_in_usd  remote_ratio\n",
       "count   607.000000  6.070000e+02     607.000000     607.00000\n",
       "mean   2021.405272  3.240001e+05  112297.869852      70.92257\n",
       "std       0.692133  1.544357e+06   70957.259411      40.70913\n",
       "min    2020.000000  4.000000e+03    2859.000000       0.00000\n",
       "25%    2021.000000  7.000000e+04   62726.000000      50.00000\n",
       "50%    2022.000000  1.150000e+05  101570.000000     100.00000\n",
       "75%    2022.000000  1.650000e+05  150000.000000     100.00000\n",
       "max    2022.000000  3.040000e+07  600000.000000     100.00000"
      ]
     },
     "execution_count": 5,
     "metadata": {},
     "output_type": "execute_result"
    }
   ],
   "source": [
    "df.describe()"
   ]
  },
  {
   "cell_type": "markdown",
   "id": "e783576e",
   "metadata": {
    "papermill": {
     "duration": 0.012445,
     "end_time": "2022-06-17T14:07:44.014330",
     "exception": false,
     "start_time": "2022-06-17T14:07:44.001885",
     "status": "completed"
    },
    "tags": []
   },
   "source": [
    "Because salary is based on the currecy, we will prefer to explore the dataset based on the salary_in_usd, so the data is more uniform"
   ]
  },
  {
   "cell_type": "code",
   "execution_count": 6,
   "id": "f3ef3060",
   "metadata": {
    "execution": {
     "iopub.execute_input": "2022-06-17T14:07:44.043968Z",
     "iopub.status.busy": "2022-06-17T14:07:44.043298Z",
     "iopub.status.idle": "2022-06-17T14:07:44.051788Z",
     "shell.execute_reply": "2022-06-17T14:07:44.050921Z"
    },
    "papermill": {
     "duration": 0.026078,
     "end_time": "2022-06-17T14:07:44.053649",
     "exception": false,
     "start_time": "2022-06-17T14:07:44.027571",
     "status": "completed"
    },
    "tags": []
   },
   "outputs": [
    {
     "data": {
      "text/plain": [
       "work_year             0\n",
       "experience_level      0\n",
       "employment_type       0\n",
       "job_title             0\n",
       "salary                0\n",
       "salary_currency       0\n",
       "salary_in_usd         0\n",
       "employee_residence    0\n",
       "remote_ratio          0\n",
       "company_location      0\n",
       "company_size          0\n",
       "dtype: int64"
      ]
     },
     "execution_count": 6,
     "metadata": {},
     "output_type": "execute_result"
    }
   ],
   "source": [
    "df.isnull().sum()"
   ]
  },
  {
   "cell_type": "markdown",
   "id": "5de48bf1",
   "metadata": {
    "papermill": {
     "duration": 0.012644,
     "end_time": "2022-06-17T14:07:44.079304",
     "exception": false,
     "start_time": "2022-06-17T14:07:44.066660",
     "status": "completed"
    },
    "tags": []
   },
   "source": [
    "No null values to deal with, so one problem less to deal with"
   ]
  },
  {
   "cell_type": "markdown",
   "id": "fe502b80",
   "metadata": {
    "papermill": {
     "duration": 0.012658,
     "end_time": "2022-06-17T14:07:44.104873",
     "exception": false,
     "start_time": "2022-06-17T14:07:44.092215",
     "status": "completed"
    },
    "tags": []
   },
   "source": [
    "# Exploring the Dataset"
   ]
  },
  {
   "cell_type": "code",
   "execution_count": 7,
   "id": "2fc238af",
   "metadata": {
    "execution": {
     "iopub.execute_input": "2022-06-17T14:07:44.132681Z",
     "iopub.status.busy": "2022-06-17T14:07:44.132077Z",
     "iopub.status.idle": "2022-06-17T14:07:44.560315Z",
     "shell.execute_reply": "2022-06-17T14:07:44.559356Z"
    },
    "papermill": {
     "duration": 0.444517,
     "end_time": "2022-06-17T14:07:44.562409",
     "exception": false,
     "start_time": "2022-06-17T14:07:44.117892",
     "status": "completed"
    },
    "tags": []
   },
   "outputs": [
    {
     "data": {
      "text/plain": [
       "<AxesSubplot:xlabel='experience_level', ylabel='salary_in_usd'>"
      ]
     },
     "execution_count": 7,
     "metadata": {},
     "output_type": "execute_result"
    },
    {
     "data": {
      "image/png": "[encoded data removed]",
      "text/plain": [
       "<Figure size 1080x576 with 1 Axes>"
      ]
     },
     "metadata": {
      "needs_background": "light"
     },
     "output_type": "display_data"
    }
   ],
   "source": [
    "plt.figure(figsize=(15,8))\n",
    "sns.boxplot(x=\"experience_level\", y=\"salary_in_usd\", data=df)"
   ]
  },
  {
   "cell_type": "code",
   "execution_count": 8,
   "id": "599854aa",
   "metadata": {
    "execution": {
     "iopub.execute_input": "2022-06-17T14:07:44.591366Z",
     "iopub.status.busy": "2022-06-17T14:07:44.590964Z",
     "iopub.status.idle": "2022-06-17T14:07:44.818178Z",
     "shell.execute_reply": "2022-06-17T14:07:44.817443Z"
    },
    "papermill": {
     "duration": 0.244337,
     "end_time": "2022-06-17T14:07:44.820429",
     "exception": false,
     "start_time": "2022-06-17T14:07:44.576092",
     "status": "completed"
    },
    "tags": []
   },
   "outputs": [
    {
     "data": {
      "text/plain": [
       "<AxesSubplot:xlabel='employment_type', ylabel='salary_in_usd'>"
      ]
     },
     "execution_count": 8,
     "metadata": {},
     "output_type": "execute_result"
    },
    {
     "data": {
      "image/png": "[encoded data removed]",
      "text/plain": [
       "<Figure size 1080x576 with 1 Axes>"
      ]
     },
     "metadata": {
      "needs_background": "light"
     },
     "output_type": "display_data"
    }
   ],
   "source": [
    "plt.figure(figsize=(15,8))\n",
    "sns.boxplot(x=\"employment_type\", y=\"salary_in_usd\", data=df)"
   ]
  },
  {
   "cell_type": "code",
   "execution_count": 9,
   "id": "fd097af2",
   "metadata": {
    "execution": {
     "iopub.execute_input": "2022-06-17T14:07:44.849970Z",
     "iopub.status.busy": "2022-06-17T14:07:44.849544Z",
     "iopub.status.idle": "2022-06-17T14:07:45.028221Z",
     "shell.execute_reply": "2022-06-17T14:07:45.027512Z"
    },
    "papermill": {
     "duration": 0.195918,
     "end_time": "2022-06-17T14:07:45.030241",
     "exception": false,
     "start_time": "2022-06-17T14:07:44.834323",
     "status": "completed"
    },
    "tags": []
   },
   "outputs": [
    {
     "data": {
      "text/plain": [
       "<AxesSubplot:xlabel='employment_type', ylabel='salary_in_usd'>"
      ]
     },
     "execution_count": 9,
     "metadata": {},
     "output_type": "execute_result"
    },
    {
     "data": {
      "image/png": "[encoded data removed]",
      "text/plain": [
       "<Figure size 1080x576 with 1 Axes>"
      ]
     },
     "metadata": {
      "needs_background": "light"
     },
     "output_type": "display_data"
    }
   ],
   "source": [
    "plt.figure(figsize=(15,8))\n",
    "sns.boxplot(x=\"employment_type\", y=\"salary_in_usd\", data=df)"
   ]
  },
  {
   "cell_type": "code",
   "execution_count": 10,
   "id": "930afb51",
   "metadata": {
    "execution": {
     "iopub.execute_input": "2022-06-17T14:07:45.062370Z",
     "iopub.status.busy": "2022-06-17T14:07:45.061770Z",
     "iopub.status.idle": "2022-06-17T14:07:45.071522Z",
     "shell.execute_reply": "2022-06-17T14:07:45.070685Z"
    },
    "papermill": {
     "duration": 0.028774,
     "end_time": "2022-06-17T14:07:45.073533",
     "exception": false,
     "start_time": "2022-06-17T14:07:45.044759",
     "status": "completed"
    },
    "tags": []
   },
   "outputs": [
    {
     "data": {
      "text/plain": [
       "Data Scientist                              143\n",
       "Data Engineer                               132\n",
       "Data Analyst                                 97\n",
       "Machine Learning Engineer                    41\n",
       "Research Scientist                           16\n",
       "Data Science Manager                         12\n",
       "Data Architect                               11\n",
       "Big Data Engineer                             8\n",
       "Machine Learning Scientist                    8\n",
       "Principal Data Scientist                      7\n",
       "AI Scientist                                  7\n",
       "Data Science Consultant                       7\n",
       "Director of Data Science                      7\n",
       "Data Analytics Manager                        7\n",
       "ML Engineer                                   6\n",
       "Computer Vision Engineer                      6\n",
       "BI Data Analyst                               6\n",
       "Lead Data Engineer                            6\n",
       "Data Engineering Manager                      5\n",
       "Business Data Analyst                         5\n",
       "Head of Data                                  5\n",
       "Applied Data Scientist                        5\n",
       "Applied Machine Learning Scientist            4\n",
       "Head of Data Science                          4\n",
       "Analytics Engineer                            4\n",
       "Data Analytics Engineer                       4\n",
       "Machine Learning Developer                    3\n",
       "Machine Learning Infrastructure Engineer      3\n",
       "Lead Data Scientist                           3\n",
       "Computer Vision Software Engineer             3\n",
       "Lead Data Analyst                             3\n",
       "Data Science Engineer                         3\n",
       "Principal Data Engineer                       3\n",
       "Principal Data Analyst                        2\n",
       "ETL Developer                                 2\n",
       "Product Data Analyst                          2\n",
       "Director of Data Engineering                  2\n",
       "Financial Data Analyst                        2\n",
       "Cloud Data Engineer                           2\n",
       "Lead Machine Learning Engineer                1\n",
       "NLP Engineer                                  1\n",
       "Head of Machine Learning                      1\n",
       "3D Computer Vision Researcher                 1\n",
       "Data Specialist                               1\n",
       "Staff Data Scientist                          1\n",
       "Big Data Architect                            1\n",
       "Finance Data Analyst                          1\n",
       "Marketing Data Analyst                        1\n",
       "Machine Learning Manager                      1\n",
       "Data Analytics Lead                           1\n",
       "Name: job_title, dtype: int64"
      ]
     },
     "execution_count": 10,
     "metadata": {},
     "output_type": "execute_result"
    }
   ],
   "source": [
    "df['job_title'].value_counts()"
   ]
  },
  {
   "cell_type": "markdown",
   "id": "784888be",
   "metadata": {
    "papermill": {
     "duration": 0.014354,
     "end_time": "2022-06-17T14:07:45.102569",
     "exception": false,
     "start_time": "2022-06-17T14:07:45.088215",
     "status": "completed"
    },
    "tags": []
   },
   "source": [
    "We have too may job titles, so let's explore the 6 most commons job titles"
   ]
  },
  {
   "cell_type": "code",
   "execution_count": 11,
   "id": "c148822d",
   "metadata": {
    "execution": {
     "iopub.execute_input": "2022-06-17T14:07:45.133417Z",
     "iopub.status.busy": "2022-06-17T14:07:45.132734Z",
     "iopub.status.idle": "2022-06-17T14:07:45.143076Z",
     "shell.execute_reply": "2022-06-17T14:07:45.142255Z"
    },
    "papermill": {
     "duration": 0.028013,
     "end_time": "2022-06-17T14:07:45.145013",
     "exception": false,
     "start_time": "2022-06-17T14:07:45.117000",
     "status": "completed"
    },
    "tags": []
   },
   "outputs": [
    {
     "data": {
      "text/plain": [
       "Data Scientist               143\n",
       "Data Engineer                132\n",
       "Data Analyst                  97\n",
       "Machine Learning Engineer     41\n",
       "Research Scientist            16\n",
       "Data Science Manager          12\n",
       "Name: job_title, dtype: int64"
      ]
     },
     "execution_count": 11,
     "metadata": {},
     "output_type": "execute_result"
    }
   ],
   "source": [
    "first_6_job_titles =  df['job_title'].value_counts()[:6].keys()\n",
    "df_filtered_job_titles = df[df['job_title'].isin(first_6_job_titles)]\n",
    "df_filtered_job_titles['job_title'].value_counts()"
   ]
  },
  {
   "cell_type": "code",
   "execution_count": 12,
   "id": "68dcb12d",
   "metadata": {
    "execution": {
     "iopub.execute_input": "2022-06-17T14:07:45.176672Z",
     "iopub.status.busy": "2022-06-17T14:07:45.176240Z",
     "iopub.status.idle": "2022-06-17T14:07:45.385140Z",
     "shell.execute_reply": "2022-06-17T14:07:45.384394Z"
    },
    "papermill": {
     "duration": 0.227475,
     "end_time": "2022-06-17T14:07:45.387187",
     "exception": false,
     "start_time": "2022-06-17T14:07:45.159712",
     "status": "completed"
    },
    "tags": []
   },
   "outputs": [
    {
     "data": {
      "text/plain": [
       "<AxesSubplot:xlabel='job_title', ylabel='salary_in_usd'>"
      ]
     },
     "execution_count": 12,
     "metadata": {},
     "output_type": "execute_result"
    },
    {
     "data": {
      "image/png": "[encoded data removed]",
      "text/plain": [
       "<Figure size 1080x576 with 1 Axes>"
      ]
     },
     "metadata": {
      "needs_background": "light"
     },
     "output_type": "display_data"
    }
   ],
   "source": [
    "plt.figure(figsize=(15,8))\n",
    "sns.boxplot(x=\"job_title\", y=\"salary_in_usd\", data=df_filtered_job_titles)"
   ]
  },
  {
   "cell_type": "code",
   "execution_count": 13,
   "id": "d18f0724",
   "metadata": {
    "execution": {
     "iopub.execute_input": "2022-06-17T14:07:45.419620Z",
     "iopub.status.busy": "2022-06-17T14:07:45.419085Z",
     "iopub.status.idle": "2022-06-17T14:07:45.426869Z",
     "shell.execute_reply": "2022-06-17T14:07:45.426052Z"
    },
    "papermill": {
     "duration": 0.026213,
     "end_time": "2022-06-17T14:07:45.428649",
     "exception": false,
     "start_time": "2022-06-17T14:07:45.402436",
     "status": "completed"
    },
    "tags": []
   },
   "outputs": [
    {
     "data": {
      "text/plain": [
       "US    332\n",
       "GB     44\n",
       "IN     30\n",
       "CA     29\n",
       "DE     25\n",
       "FR     18\n",
       "ES     15\n",
       "GR     13\n",
       "JP      7\n",
       "PT      6\n",
       "BR      6\n",
       "PK      6\n",
       "NL      5\n",
       "PL      4\n",
       "IT      4\n",
       "RU      4\n",
       "AE      3\n",
       "AT      3\n",
       "VN      3\n",
       "TR      3\n",
       "AU      3\n",
       "RO      2\n",
       "BE      2\n",
       "SG      2\n",
       "SI      2\n",
       "DK      2\n",
       "HU      2\n",
       "NG      2\n",
       "MX      2\n",
       "BO      1\n",
       "MY      1\n",
       "TN      1\n",
       "IE      1\n",
       "DZ      1\n",
       "AR      1\n",
       "CZ      1\n",
       "JE      1\n",
       "LU      1\n",
       "PR      1\n",
       "RS      1\n",
       "EE      1\n",
       "CL      1\n",
       "HK      1\n",
       "KE      1\n",
       "MD      1\n",
       "CO      1\n",
       "IR      1\n",
       "CN      1\n",
       "MT      1\n",
       "UA      1\n",
       "IQ      1\n",
       "HN      1\n",
       "BG      1\n",
       "HR      1\n",
       "PH      1\n",
       "NZ      1\n",
       "CH      1\n",
       "Name: employee_residence, dtype: int64"
      ]
     },
     "execution_count": 13,
     "metadata": {},
     "output_type": "execute_result"
    }
   ],
   "source": [
    "df['employee_residence'].value_counts()"
   ]
  },
  {
   "cell_type": "markdown",
   "id": "5173f4f2",
   "metadata": {
    "papermill": {
     "duration": 0.015191,
     "end_time": "2022-06-17T14:07:45.459555",
     "exception": false,
     "start_time": "2022-06-17T14:07:45.444364",
     "status": "completed"
    },
    "tags": []
   },
   "source": [
    "Same process, but for employee residence"
   ]
  },
  {
   "cell_type": "code",
   "execution_count": 14,
   "id": "5851c131",
   "metadata": {
    "execution": {
     "iopub.execute_input": "2022-06-17T14:07:45.492264Z",
     "iopub.status.busy": "2022-06-17T14:07:45.491552Z",
     "iopub.status.idle": "2022-06-17T14:07:45.752313Z",
     "shell.execute_reply": "2022-06-17T14:07:45.751415Z"
    },
    "papermill": {
     "duration": 0.279688,
     "end_time": "2022-06-17T14:07:45.754681",
     "exception": false,
     "start_time": "2022-06-17T14:07:45.474993",
     "status": "completed"
    },
    "tags": []
   },
   "outputs": [
    {
     "data": {
      "text/plain": [
       "<AxesSubplot:xlabel='employee_residence', ylabel='salary_in_usd'>"
      ]
     },
     "execution_count": 14,
     "metadata": {},
     "output_type": "execute_result"
    },
    {
     "data": {
      "image/png": "[encoded data removed]",
      "text/plain": [
       "<Figure size 1080x576 with 1 Axes>"
      ]
     },
     "metadata": {
      "needs_background": "light"
     },
     "output_type": "display_data"
    }
   ],
   "source": [
    "first_6_employee_residence =  df['employee_residence'].value_counts()[:6].keys()\n",
    "df_filtered_employee_residence = df[df['employee_residence'].isin(first_6_employee_residence)]\n",
    "\n",
    "plt.figure(figsize=(15,8))\n",
    "sns.boxplot(x=\"employee_residence\", y=\"salary_in_usd\", data=df_filtered_employee_residence)"
   ]
  },
  {
   "cell_type": "code",
   "execution_count": 15,
   "id": "89644e62",
   "metadata": {
    "execution": {
     "iopub.execute_input": "2022-06-17T14:07:45.787834Z",
     "iopub.status.busy": "2022-06-17T14:07:45.787445Z",
     "iopub.status.idle": "2022-06-17T14:07:45.795477Z",
     "shell.execute_reply": "2022-06-17T14:07:45.794632Z"
    },
    "papermill": {
     "duration": 0.027228,
     "end_time": "2022-06-17T14:07:45.797426",
     "exception": false,
     "start_time": "2022-06-17T14:07:45.770198",
     "status": "completed"
    },
    "tags": []
   },
   "outputs": [
    {
     "data": {
      "text/plain": [
       "US    355\n",
       "GB     47\n",
       "CA     30\n",
       "DE     28\n",
       "IN     24\n",
       "FR     15\n",
       "ES     14\n",
       "GR     11\n",
       "JP      6\n",
       "NL      4\n",
       "AT      4\n",
       "PT      4\n",
       "PL      4\n",
       "LU      3\n",
       "PK      3\n",
       "BR      3\n",
       "AE      3\n",
       "MX      3\n",
       "AU      3\n",
       "TR      3\n",
       "DK      3\n",
       "IT      2\n",
       "CZ      2\n",
       "SI      2\n",
       "RU      2\n",
       "CH      2\n",
       "NG      2\n",
       "CN      2\n",
       "BE      2\n",
       "VN      1\n",
       "EE      1\n",
       "AS      1\n",
       "DZ      1\n",
       "MY      1\n",
       "MD      1\n",
       "KE      1\n",
       "SG      1\n",
       "CO      1\n",
       "IR      1\n",
       "CL      1\n",
       "MT      1\n",
       "IL      1\n",
       "UA      1\n",
       "IQ      1\n",
       "RO      1\n",
       "HR      1\n",
       "NZ      1\n",
       "HU      1\n",
       "HN      1\n",
       "IE      1\n",
       "Name: company_location, dtype: int64"
      ]
     },
     "execution_count": 15,
     "metadata": {},
     "output_type": "execute_result"
    }
   ],
   "source": [
    "df['company_location'].value_counts()"
   ]
  },
  {
   "cell_type": "code",
   "execution_count": 16,
   "id": "853b5609",
   "metadata": {
    "execution": {
     "iopub.execute_input": "2022-06-17T14:07:45.831153Z",
     "iopub.status.busy": "2022-06-17T14:07:45.830483Z",
     "iopub.status.idle": "2022-06-17T14:07:46.090201Z",
     "shell.execute_reply": "2022-06-17T14:07:46.089266Z"
    },
    "papermill": {
     "duration": 0.2791,
     "end_time": "2022-06-17T14:07:46.092304",
     "exception": false,
     "start_time": "2022-06-17T14:07:45.813204",
     "status": "completed"
    },
    "tags": []
   },
   "outputs": [
    {
     "data": {
      "text/plain": [
       "<AxesSubplot:xlabel='company_location', ylabel='salary_in_usd'>"
      ]
     },
     "execution_count": 16,
     "metadata": {},
     "output_type": "execute_result"
    },
    {
     "data": {
      "image/png": "[encoded data removed]",
      "text/plain": [
       "<Figure size 1080x576 with 1 Axes>"
      ]
     },
     "metadata": {
      "needs_background": "light"
     },
     "output_type": "display_data"
    }
   ],
   "source": [
    "first_6_company_location =  df['company_location'].value_counts()[:6].keys()\n",
    "df_filtered_company_location = df[df['company_location'].isin(first_6_company_location)]\n",
    "\n",
    "plt.figure(figsize=(15,8))\n",
    "sns.boxplot(x=\"company_location\", y=\"salary_in_usd\", data=df_filtered_company_location)"
   ]
  },
  {
   "cell_type": "code",
   "execution_count": 17,
   "id": "e9a9c598",
   "metadata": {
    "execution": {
     "iopub.execute_input": "2022-06-17T14:07:46.126687Z",
     "iopub.status.busy": "2022-06-17T14:07:46.126280Z",
     "iopub.status.idle": "2022-06-17T14:07:46.546221Z",
     "shell.execute_reply": "2022-06-17T14:07:46.545626Z"
    },
    "papermill": {
     "duration": 0.439156,
     "end_time": "2022-06-17T14:07:46.548046",
     "exception": false,
     "start_time": "2022-06-17T14:07:46.108890",
     "status": "completed"
    },
    "tags": []
   },
   "outputs": [
    {
     "data": {
      "text/plain": [
       "<AxesSubplot:xlabel='salary_currency', ylabel='salary_in_usd'>"
      ]
     },
     "execution_count": 17,
     "metadata": {},
     "output_type": "execute_result"
    },
    {
     "data": {
      "image/png": "[encoded data removed]",
      "text/plain": [
       "<Figure size 1080x576 with 1 Axes>"
      ]
     },
     "metadata": {
      "needs_background": "light"
     },
     "output_type": "display_data"
    }
   ],
   "source": [
    "plt.figure(figsize=(15,8))\n",
    "sns.boxplot(x=\"salary_currency\", y=\"salary_in_usd\", data=df)"
   ]
  },
  {
   "cell_type": "markdown",
   "id": "73761e19",
   "metadata": {
    "papermill": {
     "duration": 0.016929,
     "end_time": "2022-06-17T14:07:46.582061",
     "exception": false,
     "start_time": "2022-06-17T14:07:46.565132",
     "status": "completed"
    },
    "tags": []
   },
   "source": [
    "Even with a lot of of values for salary currency, i think is better to see all of them together to understand better the salary variation by currency"
   ]
  },
  {
   "cell_type": "code",
   "execution_count": 18,
   "id": "fb697e3d",
   "metadata": {
    "execution": {
     "iopub.execute_input": "2022-06-17T14:07:46.617632Z",
     "iopub.status.busy": "2022-06-17T14:07:46.616682Z",
     "iopub.status.idle": "2022-06-17T14:07:46.824564Z",
     "shell.execute_reply": "2022-06-17T14:07:46.823926Z"
    },
    "papermill": {
     "duration": 0.227696,
     "end_time": "2022-06-17T14:07:46.826527",
     "exception": false,
     "start_time": "2022-06-17T14:07:46.598831",
     "status": "completed"
    },
    "tags": []
   },
   "outputs": [
    {
     "data": {
      "text/plain": [
       "<AxesSubplot:xlabel='company_size', ylabel='salary_in_usd'>"
      ]
     },
     "execution_count": 18,
     "metadata": {},
     "output_type": "execute_result"
    },
    {
     "data": {
      "image/png": "[encoded data removed]",
      "text/plain": [
       "<Figure size 1080x576 with 1 Axes>"
      ]
     },
     "metadata": {
      "needs_background": "light"
     },
     "output_type": "display_data"
    }
   ],
   "source": [
    "plt.figure(figsize=(15,8))\n",
    "sns.boxplot(x=\"company_size\", y=\"salary_in_usd\", data=df)"
   ]
  },
  {
   "cell_type": "code",
   "execution_count": 19,
   "id": "b5edbf85",
   "metadata": {
    "execution": {
     "iopub.execute_input": "2022-06-17T14:07:46.862902Z",
     "iopub.status.busy": "2022-06-17T14:07:46.862066Z",
     "iopub.status.idle": "2022-06-17T14:07:47.071913Z",
     "shell.execute_reply": "2022-06-17T14:07:47.071031Z"
    },
    "papermill": {
     "duration": 0.230169,
     "end_time": "2022-06-17T14:07:47.073901",
     "exception": false,
     "start_time": "2022-06-17T14:07:46.843732",
     "status": "completed"
    },
    "tags": []
   },
   "outputs": [
    {
     "data": {
      "text/plain": [
       "<AxesSubplot:xlabel='work_year', ylabel='salary_in_usd'>"
      ]
     },
     "execution_count": 19,
     "metadata": {},
     "output_type": "execute_result"
    },
    {
     "data": {
      "image/png": "[encoded data removed]",
      "text/plain": [
       "<Figure size 1080x576 with 1 Axes>"
      ]
     },
     "metadata": {
      "needs_background": "light"
     },
     "output_type": "display_data"
    }
   ],
   "source": [
    "plt.figure(figsize=(15,8))\n",
    "sns.boxplot(x=\"work_year\", y=\"salary_in_usd\", data=df)"
   ]
  },
  {
   "cell_type": "code",
   "execution_count": 20,
   "id": "18025696",
   "metadata": {
    "execution": {
     "iopub.execute_input": "2022-06-17T14:07:47.112896Z",
     "iopub.status.busy": "2022-06-17T14:07:47.112245Z",
     "iopub.status.idle": "2022-06-17T14:07:47.803588Z",
     "shell.execute_reply": "2022-06-17T14:07:47.802932Z"
    },
    "papermill": {
     "duration": 0.713229,
     "end_time": "2022-06-17T14:07:47.805358",
     "exception": false,
     "start_time": "2022-06-17T14:07:47.092129",
     "status": "completed"
    },
    "tags": []
   },
   "outputs": [
    {
     "data": {
      "text/plain": [
       "<seaborn.axisgrid.JointGrid at 0x7fb718f4bcd0>"
      ]
     },
     "execution_count": 20,
     "metadata": {},
     "output_type": "execute_result"
    },
    {
     "data": {
      "text/plain": [
       "<Figure size 1080x576 with 0 Axes>"
      ]
     },
     "metadata": {},
     "output_type": "display_data"
    },
    {
     "data": {
      "image/png": "[encoded data removed]",
      "text/plain": [
       "<Figure size 432x432 with 3 Axes>"
      ]
     },
     "metadata": {
      "needs_background": "light"
     },
     "output_type": "display_data"
    }
   ],
   "source": [
    "plt.figure(figsize=(15,8))\n",
    "sns.jointplot(x=\"remote_ratio\", y=\"salary_in_usd\", data=df, kind=\"reg\")"
   ]
  },
  {
   "cell_type": "markdown",
   "id": "692ae00a",
   "metadata": {
    "papermill": {
     "duration": 0.018264,
     "end_time": "2022-06-17T14:07:47.842761",
     "exception": false,
     "start_time": "2022-06-17T14:07:47.824497",
     "status": "completed"
    },
    "tags": []
   },
   "source": [
    "Interesting! My first thought was that this column was more distributed, but looks like is focused on 0, 50 and 100, so we can use the box plot chart to visualize better this feature"
   ]
  },
  {
   "cell_type": "code",
   "execution_count": 21,
   "id": "aa3c6757",
   "metadata": {
    "execution": {
     "iopub.execute_input": "2022-06-17T14:07:47.881471Z",
     "iopub.status.busy": "2022-06-17T14:07:47.880877Z",
     "iopub.status.idle": "2022-06-17T14:07:48.099531Z",
     "shell.execute_reply": "2022-06-17T14:07:48.098579Z"
    },
    "papermill": {
     "duration": 0.240694,
     "end_time": "2022-06-17T14:07:48.101821",
     "exception": false,
     "start_time": "2022-06-17T14:07:47.861127",
     "status": "completed"
    },
    "tags": []
   },
   "outputs": [
    {
     "data": {
      "text/plain": [
       "<AxesSubplot:xlabel='remote_ratio', ylabel='salary_in_usd'>"
      ]
     },
     "execution_count": 21,
     "metadata": {},
     "output_type": "execute_result"
    },
    {
     "data": {
      "image/png": "[encoded data removed]",
      "text/plain": [
       "<Figure size 1080x576 with 1 Axes>"
      ]
     },
     "metadata": {
      "needs_background": "light"
     },
     "output_type": "display_data"
    }
   ],
   "source": [
    "plt.figure(figsize=(15,8))\n",
    "sns.boxplot(x=\"remote_ratio\", y=\"salary_in_usd\", data=df)"
   ]
  },
  {
   "cell_type": "code",
   "execution_count": 22,
   "id": "f06c987e",
   "metadata": {
    "execution": {
     "iopub.execute_input": "2022-06-17T14:07:48.142443Z",
     "iopub.status.busy": "2022-06-17T14:07:48.141753Z",
     "iopub.status.idle": "2022-06-17T14:07:48.424430Z",
     "shell.execute_reply": "2022-06-17T14:07:48.423508Z"
    },
    "papermill": {
     "duration": 0.305447,
     "end_time": "2022-06-17T14:07:48.426570",
     "exception": false,
     "start_time": "2022-06-17T14:07:48.121123",
     "status": "completed"
    },
    "tags": []
   },
   "outputs": [
    {
     "data": {
      "image/png": "[encoded data removed]",
      "text/plain": [
       "<Figure size 1080x576 with 1 Axes>"
      ]
     },
     "metadata": {
      "needs_background": "light"
     },
     "output_type": "display_data"
    }
   ],
   "source": [
    "plt.figure(figsize=(15,8))\n",
    "ax = sns.histplot(x=\"company_location\", hue=\"remote_ratio\", data=df_filtered_company_location,multiple=\"dodge\", shrink=.8)"
   ]
  },
  {
   "cell_type": "code",
   "execution_count": 23,
   "id": "3b36018c",
   "metadata": {
    "execution": {
     "iopub.execute_input": "2022-06-17T14:07:48.466656Z",
     "iopub.status.busy": "2022-06-17T14:07:48.465664Z",
     "iopub.status.idle": "2022-06-17T14:07:48.987583Z",
     "shell.execute_reply": "2022-06-17T14:07:48.986667Z"
    },
    "papermill": {
     "duration": 0.54423,
     "end_time": "2022-06-17T14:07:48.989784",
     "exception": false,
     "start_time": "2022-06-17T14:07:48.445554",
     "status": "completed"
    },
    "tags": []
   },
   "outputs": [
    {
     "data": {
      "image/png": "[encoded data removed]",
      "text/plain": [
       "<Figure size 1080x576 with 1 Axes>"
      ]
     },
     "metadata": {
      "needs_background": "light"
     },
     "output_type": "display_data"
    }
   ],
   "source": [
    "x,y = 'company_location', 'remote_ratio'\n",
    "\n",
    "g = (df_filtered_company_location\n",
    ".groupby(x)[y]\n",
    ".value_counts(normalize=True)\n",
    ".mul(100)\n",
    ".rename('percent')\n",
    ".reset_index()\n",
    ".pipe((sns.catplot,'data'), x=x,y='percent',hue=y,kind='bar'))\n",
    "g.fig.set_size_inches(15,8)\n",
    "g.ax.set_ylim(0,100)\n",
    "\n",
    "for p in g.ax.patches:\n",
    "    txt = str(p.get_height().round(2)) + '%'\n",
    "    txt_x = p.get_x() \n",
    "    txt_y = p.get_height()\n",
    "    g.ax.text(txt_x,txt_y,txt)"
   ]
  },
  {
   "cell_type": "markdown",
   "id": "a27c7443",
   "metadata": {
    "papermill": {
     "duration": 0.023515,
     "end_time": "2022-06-17T14:07:49.033840",
     "exception": false,
     "start_time": "2022-06-17T14:07:49.010325",
     "status": "completed"
    },
    "tags": []
   },
   "source": [
    "This chart show us the proportion of remote work per country, what gives us a great idea of how is distributed this type of work on the selected countries"
   ]
  },
  {
   "cell_type": "markdown",
   "id": "eb081fbf",
   "metadata": {
    "papermill": {
     "duration": 0.019154,
     "end_time": "2022-06-17T14:07:49.072651",
     "exception": false,
     "start_time": "2022-06-17T14:07:49.053497",
     "status": "completed"
    },
    "tags": []
   },
   "source": [
    "# Prediction / Regression"
   ]
  },
  {
   "cell_type": "markdown",
   "id": "f8155468",
   "metadata": {
    "papermill": {
     "duration": 0.019254,
     "end_time": "2022-06-17T14:07:49.111383",
     "exception": false,
     "start_time": "2022-06-17T14:07:49.092129",
     "status": "completed"
    },
    "tags": []
   },
   "source": [
    "I'm a beginner on predictions and regression, and still need to study more, so my results are not the best, so don't mind too much this part."
   ]
  },
  {
   "cell_type": "markdown",
   "id": "60ce0dbc",
   "metadata": {
    "papermill": {
     "duration": 0.019024,
     "end_time": "2022-06-17T14:07:49.149786",
     "exception": false,
     "start_time": "2022-06-17T14:07:49.130762",
     "status": "completed"
    },
    "tags": []
   },
   "source": [
    "If you have any suggestion to improve my code, feel free to comment"
   ]
  },
  {
   "cell_type": "code",
   "execution_count": 24,
   "id": "712c4496",
   "metadata": {
    "execution": {
     "iopub.execute_input": "2022-06-17T14:07:49.190866Z",
     "iopub.status.busy": "2022-06-17T14:07:49.190169Z",
     "iopub.status.idle": "2022-06-17T14:07:49.196793Z",
     "shell.execute_reply": "2022-06-17T14:07:49.196161Z"
    },
    "papermill": {
     "duration": 0.02959,
     "end_time": "2022-06-17T14:07:49.198782",
     "exception": false,
     "start_time": "2022-06-17T14:07:49.169192",
     "status": "completed"
    },
    "tags": []
   },
   "outputs": [],
   "source": [
    "from sklearn.preprocessing import OneHotEncoder\n",
    "def category_to_column(df, column, prefix=''):\n",
    "    df_copy = df.copy()\n",
    "    oe_style = OneHotEncoder()\n",
    "    oe_results = oe_style.fit_transform(df_copy[[column]])\n",
    "    name_columns = prefix + oe_style.categories_[0]\n",
    "    temp = pd.DataFrame(oe_results.toarray(), columns=name_columns, index=df_copy.index)\n",
    "    df_copy = pd.concat([df_copy, temp], axis=1)\n",
    "    return df_copy"
   ]
  },
  {
   "cell_type": "code",
   "execution_count": 25,
   "id": "e9cf7fb1",
   "metadata": {
    "execution": {
     "iopub.execute_input": "2022-06-17T14:07:49.239837Z",
     "iopub.status.busy": "2022-06-17T14:07:49.239149Z",
     "iopub.status.idle": "2022-06-17T14:07:49.286395Z",
     "shell.execute_reply": "2022-06-17T14:07:49.285456Z"
    },
    "papermill": {
     "duration": 0.069982,
     "end_time": "2022-06-17T14:07:49.288363",
     "exception": false,
     "start_time": "2022-06-17T14:07:49.218381",
     "status": "completed"
    },
    "tags": []
   },
   "outputs": [
    {
     "data": {
      "text/html": [
       "<div>\n",
       "<style scoped>\n",
       "    .dataframe tbody tr th:only-of-type {\n",
       "        vertical-align: middle;\n",
       "    }\n",
       "\n",
       "    .dataframe tbody tr th {\n",
       "        vertical-align: top;\n",
       "    }\n",
       "\n",
       "    .dataframe thead th {\n",
       "        text-align: right;\n",
       "    }\n",
       "</style>\n",
       "<table border=\"1\" class=\"dataframe\">\n",
       "  <thead>\n",
       "    <tr style=\"text-align: right;\">\n",
       "      <th></th>\n",
       "      <th>work_year</th>\n",
       "      <th>job_title</th>\n",
       "      <th>salary</th>\n",
       "      <th>salary_in_usd</th>\n",
       "      <th>employee_residence</th>\n",
       "      <th>remote_ratio</th>\n",
       "      <th>company_location</th>\n",
       "      <th>EN</th>\n",
       "      <th>EX</th>\n",
       "      <th>MI</th>\n",
       "      <th>...</th>\n",
       "      <th>INR</th>\n",
       "      <th>JPY</th>\n",
       "      <th>MXN</th>\n",
       "      <th>PLN</th>\n",
       "      <th>SGD</th>\n",
       "      <th>TRY</th>\n",
       "      <th>USD</th>\n",
       "      <th>L</th>\n",
       "      <th>M</th>\n",
       "      <th>S</th>\n",
       "    </tr>\n",
       "  </thead>\n",
       "  <tbody>\n",
       "    <tr>\n",
       "      <th>0</th>\n",
       "      <td>2020</td>\n",
       "      <td>Data Scientist</td>\n",
       "      <td>70000</td>\n",
       "      <td>79833</td>\n",
       "      <td>DE</td>\n",
       "      <td>0</td>\n",
       "      <td>DE</td>\n",
       "      <td>0.0</td>\n",
       "      <td>0.0</td>\n",
       "      <td>1.0</td>\n",
       "      <td>...</td>\n",
       "      <td>0.0</td>\n",
       "      <td>0.0</td>\n",
       "      <td>0.0</td>\n",
       "      <td>0.0</td>\n",
       "      <td>0.0</td>\n",
       "      <td>0.0</td>\n",
       "      <td>0.0</td>\n",
       "      <td>1.0</td>\n",
       "      <td>0.0</td>\n",
       "      <td>0.0</td>\n",
       "    </tr>\n",
       "    <tr>\n",
       "      <th>1</th>\n",
       "      <td>2020</td>\n",
       "      <td>Machine Learning Scientist</td>\n",
       "      <td>260000</td>\n",
       "      <td>260000</td>\n",
       "      <td>JP</td>\n",
       "      <td>0</td>\n",
       "      <td>JP</td>\n",
       "      <td>0.0</td>\n",
       "      <td>0.0</td>\n",
       "      <td>0.0</td>\n",
       "      <td>...</td>\n",
       "      <td>0.0</td>\n",
       "      <td>0.0</td>\n",
       "      <td>0.0</td>\n",
       "      <td>0.0</td>\n",
       "      <td>0.0</td>\n",
       "      <td>0.0</td>\n",
       "      <td>1.0</td>\n",
       "      <td>0.0</td>\n",
       "      <td>0.0</td>\n",
       "      <td>1.0</td>\n",
       "    </tr>\n",
       "    <tr>\n",
       "      <th>2</th>\n",
       "      <td>2020</td>\n",
       "      <td>Big Data Engineer</td>\n",
       "      <td>85000</td>\n",
       "      <td>109024</td>\n",
       "      <td>GB</td>\n",
       "      <td>50</td>\n",
       "      <td>GB</td>\n",
       "      <td>0.0</td>\n",
       "      <td>0.0</td>\n",
       "      <td>0.0</td>\n",
       "      <td>...</td>\n",
       "      <td>0.0</td>\n",
       "      <td>0.0</td>\n",
       "      <td>0.0</td>\n",
       "      <td>0.0</td>\n",
       "      <td>0.0</td>\n",
       "      <td>0.0</td>\n",
       "      <td>0.0</td>\n",
       "      <td>0.0</td>\n",
       "      <td>1.0</td>\n",
       "      <td>0.0</td>\n",
       "    </tr>\n",
       "    <tr>\n",
       "      <th>3</th>\n",
       "      <td>2020</td>\n",
       "      <td>Product Data Analyst</td>\n",
       "      <td>20000</td>\n",
       "      <td>20000</td>\n",
       "      <td>HN</td>\n",
       "      <td>0</td>\n",
       "      <td>HN</td>\n",
       "      <td>0.0</td>\n",
       "      <td>0.0</td>\n",
       "      <td>1.0</td>\n",
       "      <td>...</td>\n",
       "      <td>0.0</td>\n",
       "      <td>0.0</td>\n",
       "      <td>0.0</td>\n",
       "      <td>0.0</td>\n",
       "      <td>0.0</td>\n",
       "      <td>0.0</td>\n",
       "      <td>1.0</td>\n",
       "      <td>0.0</td>\n",
       "      <td>0.0</td>\n",
       "      <td>1.0</td>\n",
       "    </tr>\n",
       "    <tr>\n",
       "      <th>4</th>\n",
       "      <td>2020</td>\n",
       "      <td>Machine Learning Engineer</td>\n",
       "      <td>150000</td>\n",
       "      <td>150000</td>\n",
       "      <td>US</td>\n",
       "      <td>50</td>\n",
       "      <td>US</td>\n",
       "      <td>0.0</td>\n",
       "      <td>0.0</td>\n",
       "      <td>0.0</td>\n",
       "      <td>...</td>\n",
       "      <td>0.0</td>\n",
       "      <td>0.0</td>\n",
       "      <td>0.0</td>\n",
       "      <td>0.0</td>\n",
       "      <td>0.0</td>\n",
       "      <td>0.0</td>\n",
       "      <td>1.0</td>\n",
       "      <td>1.0</td>\n",
       "      <td>0.0</td>\n",
       "      <td>0.0</td>\n",
       "    </tr>\n",
       "  </tbody>\n",
       "</table>\n",
       "<p>5 rows × 35 columns</p>\n",
       "</div>"
      ],
      "text/plain": [
       "   work_year                   job_title  salary  salary_in_usd  \\\n",
       "0       2020              Data Scientist   70000          79833   \n",
       "1       2020  Machine Learning Scientist  260000         260000   \n",
       "2       2020           Big Data Engineer   85000         109024   \n",
       "3       2020        Product Data Analyst   20000          20000   \n",
       "4       2020   Machine Learning Engineer  150000         150000   \n",
       "\n",
       "  employee_residence  remote_ratio company_location   EN   EX   MI  ...  INR  \\\n",
       "0                 DE             0               DE  0.0  0.0  1.0  ...  0.0   \n",
       "1                 JP             0               JP  0.0  0.0  0.0  ...  0.0   \n",
       "2                 GB            50               GB  0.0  0.0  0.0  ...  0.0   \n",
       "3                 HN             0               HN  0.0  0.0  1.0  ...  0.0   \n",
       "4                 US            50               US  0.0  0.0  0.0  ...  0.0   \n",
       "\n",
       "   JPY  MXN  PLN  SGD  TRY  USD    L    M    S  \n",
       "0  0.0  0.0  0.0  0.0  0.0  0.0  1.0  0.0  0.0  \n",
       "1  0.0  0.0  0.0  0.0  0.0  1.0  0.0  0.0  1.0  \n",
       "2  0.0  0.0  0.0  0.0  0.0  0.0  0.0  1.0  0.0  \n",
       "3  0.0  0.0  0.0  0.0  0.0  1.0  0.0  0.0  1.0  \n",
       "4  0.0  0.0  0.0  0.0  0.0  1.0  1.0  0.0  0.0  \n",
       "\n",
       "[5 rows x 35 columns]"
      ]
     },
     "execution_count": 25,
     "metadata": {},
     "output_type": "execute_result"
    }
   ],
   "source": [
    "columns_category = ['experience_level', 'employment_type', 'salary_currency', 'company_size']\n",
    "df_v2 = df.copy()\n",
    "for column in columns_category:\n",
    "    df_v2 = category_to_column(df_v2, column)\n",
    "df_v2 = df_v2.drop(columns=columns_category)\n",
    "df_v2.head()"
   ]
  },
  {
   "cell_type": "code",
   "execution_count": 26,
   "id": "a3f1760c",
   "metadata": {
    "execution": {
     "iopub.execute_input": "2022-06-17T14:07:49.330664Z",
     "iopub.status.busy": "2022-06-17T14:07:49.329759Z",
     "iopub.status.idle": "2022-06-17T14:07:49.361490Z",
     "shell.execute_reply": "2022-06-17T14:07:49.360575Z"
    },
    "papermill": {
     "duration": 0.055104,
     "end_time": "2022-06-17T14:07:49.363645",
     "exception": false,
     "start_time": "2022-06-17T14:07:49.308541",
     "status": "completed"
    },
    "tags": []
   },
   "outputs": [
    {
     "data": {
      "text/html": [
       "<div>\n",
       "<style scoped>\n",
       "    .dataframe tbody tr th:only-of-type {\n",
       "        vertical-align: middle;\n",
       "    }\n",
       "\n",
       "    .dataframe tbody tr th {\n",
       "        vertical-align: top;\n",
       "    }\n",
       "\n",
       "    .dataframe thead th {\n",
       "        text-align: right;\n",
       "    }\n",
       "</style>\n",
       "<table border=\"1\" class=\"dataframe\">\n",
       "  <thead>\n",
       "    <tr style=\"text-align: right;\">\n",
       "      <th></th>\n",
       "      <th>work_year</th>\n",
       "      <th>salary_in_usd</th>\n",
       "      <th>remote_ratio</th>\n",
       "      <th>EN</th>\n",
       "      <th>EX</th>\n",
       "      <th>MI</th>\n",
       "      <th>SE</th>\n",
       "      <th>CT</th>\n",
       "      <th>FL</th>\n",
       "      <th>FT</th>\n",
       "      <th>...</th>\n",
       "      <th>INR</th>\n",
       "      <th>JPY</th>\n",
       "      <th>MXN</th>\n",
       "      <th>PLN</th>\n",
       "      <th>SGD</th>\n",
       "      <th>TRY</th>\n",
       "      <th>USD</th>\n",
       "      <th>L</th>\n",
       "      <th>M</th>\n",
       "      <th>S</th>\n",
       "    </tr>\n",
       "  </thead>\n",
       "  <tbody>\n",
       "    <tr>\n",
       "      <th>0</th>\n",
       "      <td>2020</td>\n",
       "      <td>79833</td>\n",
       "      <td>0</td>\n",
       "      <td>0.0</td>\n",
       "      <td>0.0</td>\n",
       "      <td>1.0</td>\n",
       "      <td>0.0</td>\n",
       "      <td>0.0</td>\n",
       "      <td>0.0</td>\n",
       "      <td>1.0</td>\n",
       "      <td>...</td>\n",
       "      <td>0.0</td>\n",
       "      <td>0.0</td>\n",
       "      <td>0.0</td>\n",
       "      <td>0.0</td>\n",
       "      <td>0.0</td>\n",
       "      <td>0.0</td>\n",
       "      <td>0.0</td>\n",
       "      <td>1.0</td>\n",
       "      <td>0.0</td>\n",
       "      <td>0.0</td>\n",
       "    </tr>\n",
       "    <tr>\n",
       "      <th>1</th>\n",
       "      <td>2020</td>\n",
       "      <td>260000</td>\n",
       "      <td>0</td>\n",
       "      <td>0.0</td>\n",
       "      <td>0.0</td>\n",
       "      <td>0.0</td>\n",
       "      <td>1.0</td>\n",
       "      <td>0.0</td>\n",
       "      <td>0.0</td>\n",
       "      <td>1.0</td>\n",
       "      <td>...</td>\n",
       "      <td>0.0</td>\n",
       "      <td>0.0</td>\n",
       "      <td>0.0</td>\n",
       "      <td>0.0</td>\n",
       "      <td>0.0</td>\n",
       "      <td>0.0</td>\n",
       "      <td>1.0</td>\n",
       "      <td>0.0</td>\n",
       "      <td>0.0</td>\n",
       "      <td>1.0</td>\n",
       "    </tr>\n",
       "    <tr>\n",
       "      <th>2</th>\n",
       "      <td>2020</td>\n",
       "      <td>109024</td>\n",
       "      <td>50</td>\n",
       "      <td>0.0</td>\n",
       "      <td>0.0</td>\n",
       "      <td>0.0</td>\n",
       "      <td>1.0</td>\n",
       "      <td>0.0</td>\n",
       "      <td>0.0</td>\n",
       "      <td>1.0</td>\n",
       "      <td>...</td>\n",
       "      <td>0.0</td>\n",
       "      <td>0.0</td>\n",
       "      <td>0.0</td>\n",
       "      <td>0.0</td>\n",
       "      <td>0.0</td>\n",
       "      <td>0.0</td>\n",
       "      <td>0.0</td>\n",
       "      <td>0.0</td>\n",
       "      <td>1.0</td>\n",
       "      <td>0.0</td>\n",
       "    </tr>\n",
       "    <tr>\n",
       "      <th>3</th>\n",
       "      <td>2020</td>\n",
       "      <td>20000</td>\n",
       "      <td>0</td>\n",
       "      <td>0.0</td>\n",
       "      <td>0.0</td>\n",
       "      <td>1.0</td>\n",
       "      <td>0.0</td>\n",
       "      <td>0.0</td>\n",
       "      <td>0.0</td>\n",
       "      <td>1.0</td>\n",
       "      <td>...</td>\n",
       "      <td>0.0</td>\n",
       "      <td>0.0</td>\n",
       "      <td>0.0</td>\n",
       "      <td>0.0</td>\n",
       "      <td>0.0</td>\n",
       "      <td>0.0</td>\n",
       "      <td>1.0</td>\n",
       "      <td>0.0</td>\n",
       "      <td>0.0</td>\n",
       "      <td>1.0</td>\n",
       "    </tr>\n",
       "    <tr>\n",
       "      <th>4</th>\n",
       "      <td>2020</td>\n",
       "      <td>150000</td>\n",
       "      <td>50</td>\n",
       "      <td>0.0</td>\n",
       "      <td>0.0</td>\n",
       "      <td>0.0</td>\n",
       "      <td>1.0</td>\n",
       "      <td>0.0</td>\n",
       "      <td>0.0</td>\n",
       "      <td>1.0</td>\n",
       "      <td>...</td>\n",
       "      <td>0.0</td>\n",
       "      <td>0.0</td>\n",
       "      <td>0.0</td>\n",
       "      <td>0.0</td>\n",
       "      <td>0.0</td>\n",
       "      <td>0.0</td>\n",
       "      <td>1.0</td>\n",
       "      <td>1.0</td>\n",
       "      <td>0.0</td>\n",
       "      <td>0.0</td>\n",
       "    </tr>\n",
       "  </tbody>\n",
       "</table>\n",
       "<p>5 rows × 31 columns</p>\n",
       "</div>"
      ],
      "text/plain": [
       "   work_year  salary_in_usd  remote_ratio   EN   EX   MI   SE   CT   FL   FT  \\\n",
       "0       2020          79833             0  0.0  0.0  1.0  0.0  0.0  0.0  1.0   \n",
       "1       2020         260000             0  0.0  0.0  0.0  1.0  0.0  0.0  1.0   \n",
       "2       2020         109024            50  0.0  0.0  0.0  1.0  0.0  0.0  1.0   \n",
       "3       2020          20000             0  0.0  0.0  1.0  0.0  0.0  0.0  1.0   \n",
       "4       2020         150000            50  0.0  0.0  0.0  1.0  0.0  0.0  1.0   \n",
       "\n",
       "   ...  INR  JPY  MXN  PLN  SGD  TRY  USD    L    M    S  \n",
       "0  ...  0.0  0.0  0.0  0.0  0.0  0.0  0.0  1.0  0.0  0.0  \n",
       "1  ...  0.0  0.0  0.0  0.0  0.0  0.0  1.0  0.0  0.0  1.0  \n",
       "2  ...  0.0  0.0  0.0  0.0  0.0  0.0  0.0  0.0  1.0  0.0  \n",
       "3  ...  0.0  0.0  0.0  0.0  0.0  0.0  1.0  0.0  0.0  1.0  \n",
       "4  ...  0.0  0.0  0.0  0.0  0.0  0.0  1.0  1.0  0.0  0.0  \n",
       "\n",
       "[5 rows x 31 columns]"
      ]
     },
     "execution_count": 26,
     "metadata": {},
     "output_type": "execute_result"
    }
   ],
   "source": [
    "df_v3 = df_v2.drop(columns=['job_title', 'salary', 'employee_residence', 'company_location'])\n",
    "df_v3.head()"
   ]
  },
  {
   "cell_type": "code",
   "execution_count": 27,
   "id": "b57ac7fb",
   "metadata": {
    "execution": {
     "iopub.execute_input": "2022-06-17T14:07:49.406161Z",
     "iopub.status.busy": "2022-06-17T14:07:49.405478Z",
     "iopub.status.idle": "2022-06-17T14:07:50.076247Z",
     "shell.execute_reply": "2022-06-17T14:07:50.075342Z"
    },
    "papermill": {
     "duration": 0.694714,
     "end_time": "2022-06-17T14:07:50.078703",
     "exception": false,
     "start_time": "2022-06-17T14:07:49.383989",
     "status": "completed"
    },
    "tags": []
   },
   "outputs": [
    {
     "data": {
      "text/plain": [
       "<AxesSubplot:>"
      ]
     },
     "execution_count": 27,
     "metadata": {},
     "output_type": "execute_result"
    },
    {
     "data": {
      "image/png": "[encoded data removed]",
      "text/plain": [
       "<Figure size 1440x720 with 2 Axes>"
      ]
     },
     "metadata": {
      "needs_background": "light"
     },
     "output_type": "display_data"
    }
   ],
   "source": [
    "plt.figure(figsize=(20,10))\n",
    "sns.heatmap(df_v3.corr().abs())"
   ]
  },
  {
   "cell_type": "code",
   "execution_count": 28,
   "id": "9d0544e3",
   "metadata": {
    "execution": {
     "iopub.execute_input": "2022-06-17T14:07:50.123534Z",
     "iopub.status.busy": "2022-06-17T14:07:50.122827Z",
     "iopub.status.idle": "2022-06-17T14:07:50.153998Z",
     "shell.execute_reply": "2022-06-17T14:07:50.153110Z"
    },
    "papermill": {
     "duration": 0.05556,
     "end_time": "2022-06-17T14:07:50.156010",
     "exception": false,
     "start_time": "2022-06-17T14:07:50.100450",
     "status": "completed"
    },
    "tags": []
   },
   "outputs": [
    {
     "data": {
      "text/html": [
       "<div>\n",
       "<style scoped>\n",
       "    .dataframe tbody tr th:only-of-type {\n",
       "        vertical-align: middle;\n",
       "    }\n",
       "\n",
       "    .dataframe tbody tr th {\n",
       "        vertical-align: top;\n",
       "    }\n",
       "\n",
       "    .dataframe thead th {\n",
       "        text-align: right;\n",
       "    }\n",
       "</style>\n",
       "<table border=\"1\" class=\"dataframe\">\n",
       "  <thead>\n",
       "    <tr style=\"text-align: right;\">\n",
       "      <th></th>\n",
       "      <th>work_year</th>\n",
       "      <th>remote_ratio</th>\n",
       "      <th>EN</th>\n",
       "      <th>EX</th>\n",
       "      <th>MI</th>\n",
       "      <th>SE</th>\n",
       "      <th>CT</th>\n",
       "      <th>FL</th>\n",
       "      <th>FT</th>\n",
       "      <th>PT</th>\n",
       "      <th>...</th>\n",
       "      <th>INR</th>\n",
       "      <th>JPY</th>\n",
       "      <th>MXN</th>\n",
       "      <th>PLN</th>\n",
       "      <th>SGD</th>\n",
       "      <th>TRY</th>\n",
       "      <th>USD</th>\n",
       "      <th>L</th>\n",
       "      <th>M</th>\n",
       "      <th>S</th>\n",
       "    </tr>\n",
       "  </thead>\n",
       "  <tbody>\n",
       "    <tr>\n",
       "      <th>0</th>\n",
       "      <td>-2.032024</td>\n",
       "      <td>-1.743615</td>\n",
       "      <td>-0.411773</td>\n",
       "      <td>-0.211543</td>\n",
       "      <td>1.360061</td>\n",
       "      <td>-0.925348</td>\n",
       "      <td>-0.091135</td>\n",
       "      <td>-0.081446</td>\n",
       "      <td>0.179758</td>\n",
       "      <td>-0.129423</td>\n",
       "      <td>...</td>\n",
       "      <td>-0.215758</td>\n",
       "      <td>-0.070476</td>\n",
       "      <td>-0.057496</td>\n",
       "      <td>-0.070476</td>\n",
       "      <td>-0.057496</td>\n",
       "      <td>-0.070476</td>\n",
       "      <td>-1.379966</td>\n",
       "      <td>1.437239</td>\n",
       "      <td>-1.077099</td>\n",
       "      <td>-0.397991</td>\n",
       "    </tr>\n",
       "    <tr>\n",
       "      <th>1</th>\n",
       "      <td>-2.032024</td>\n",
       "      <td>-1.743615</td>\n",
       "      <td>-0.411773</td>\n",
       "      <td>-0.211543</td>\n",
       "      <td>-0.735261</td>\n",
       "      <td>1.080674</td>\n",
       "      <td>-0.091135</td>\n",
       "      <td>-0.081446</td>\n",
       "      <td>0.179758</td>\n",
       "      <td>-0.129423</td>\n",
       "      <td>...</td>\n",
       "      <td>-0.215758</td>\n",
       "      <td>-0.070476</td>\n",
       "      <td>-0.057496</td>\n",
       "      <td>-0.070476</td>\n",
       "      <td>-0.057496</td>\n",
       "      <td>-0.070476</td>\n",
       "      <td>0.724656</td>\n",
       "      <td>-0.695778</td>\n",
       "      <td>-1.077099</td>\n",
       "      <td>2.512619</td>\n",
       "    </tr>\n",
       "    <tr>\n",
       "      <th>2</th>\n",
       "      <td>-2.032024</td>\n",
       "      <td>-0.514377</td>\n",
       "      <td>-0.411773</td>\n",
       "      <td>-0.211543</td>\n",
       "      <td>-0.735261</td>\n",
       "      <td>1.080674</td>\n",
       "      <td>-0.091135</td>\n",
       "      <td>-0.081446</td>\n",
       "      <td>0.179758</td>\n",
       "      <td>-0.129423</td>\n",
       "      <td>...</td>\n",
       "      <td>-0.215758</td>\n",
       "      <td>-0.070476</td>\n",
       "      <td>-0.057496</td>\n",
       "      <td>-0.070476</td>\n",
       "      <td>-0.057496</td>\n",
       "      <td>-0.070476</td>\n",
       "      <td>-1.379966</td>\n",
       "      <td>-0.695778</td>\n",
       "      <td>0.928420</td>\n",
       "      <td>-0.397991</td>\n",
       "    </tr>\n",
       "    <tr>\n",
       "      <th>3</th>\n",
       "      <td>-2.032024</td>\n",
       "      <td>-1.743615</td>\n",
       "      <td>-0.411773</td>\n",
       "      <td>-0.211543</td>\n",
       "      <td>1.360061</td>\n",
       "      <td>-0.925348</td>\n",
       "      <td>-0.091135</td>\n",
       "      <td>-0.081446</td>\n",
       "      <td>0.179758</td>\n",
       "      <td>-0.129423</td>\n",
       "      <td>...</td>\n",
       "      <td>-0.215758</td>\n",
       "      <td>-0.070476</td>\n",
       "      <td>-0.057496</td>\n",
       "      <td>-0.070476</td>\n",
       "      <td>-0.057496</td>\n",
       "      <td>-0.070476</td>\n",
       "      <td>0.724656</td>\n",
       "      <td>-0.695778</td>\n",
       "      <td>-1.077099</td>\n",
       "      <td>2.512619</td>\n",
       "    </tr>\n",
       "    <tr>\n",
       "      <th>4</th>\n",
       "      <td>-2.032024</td>\n",
       "      <td>-0.514377</td>\n",
       "      <td>-0.411773</td>\n",
       "      <td>-0.211543</td>\n",
       "      <td>-0.735261</td>\n",
       "      <td>1.080674</td>\n",
       "      <td>-0.091135</td>\n",
       "      <td>-0.081446</td>\n",
       "      <td>0.179758</td>\n",
       "      <td>-0.129423</td>\n",
       "      <td>...</td>\n",
       "      <td>-0.215758</td>\n",
       "      <td>-0.070476</td>\n",
       "      <td>-0.057496</td>\n",
       "      <td>-0.070476</td>\n",
       "      <td>-0.057496</td>\n",
       "      <td>-0.070476</td>\n",
       "      <td>0.724656</td>\n",
       "      <td>1.437239</td>\n",
       "      <td>-1.077099</td>\n",
       "      <td>-0.397991</td>\n",
       "    </tr>\n",
       "  </tbody>\n",
       "</table>\n",
       "<p>5 rows × 30 columns</p>\n",
       "</div>"
      ],
      "text/plain": [
       "   work_year  remote_ratio        EN        EX        MI        SE        CT  \\\n",
       "0  -2.032024     -1.743615 -0.411773 -0.211543  1.360061 -0.925348 -0.091135   \n",
       "1  -2.032024     -1.743615 -0.411773 -0.211543 -0.735261  1.080674 -0.091135   \n",
       "2  -2.032024     -0.514377 -0.411773 -0.211543 -0.735261  1.080674 -0.091135   \n",
       "3  -2.032024     -1.743615 -0.411773 -0.211543  1.360061 -0.925348 -0.091135   \n",
       "4  -2.032024     -0.514377 -0.411773 -0.211543 -0.735261  1.080674 -0.091135   \n",
       "\n",
       "         FL        FT        PT  ...       INR       JPY       MXN       PLN  \\\n",
       "0 -0.081446  0.179758 -0.129423  ... -0.215758 -0.070476 -0.057496 -0.070476   \n",
       "1 -0.081446  0.179758 -0.129423  ... -0.215758 -0.070476 -0.057496 -0.070476   \n",
       "2 -0.081446  0.179758 -0.129423  ... -0.215758 -0.070476 -0.057496 -0.070476   \n",
       "3 -0.081446  0.179758 -0.129423  ... -0.215758 -0.070476 -0.057496 -0.070476   \n",
       "4 -0.081446  0.179758 -0.129423  ... -0.215758 -0.070476 -0.057496 -0.070476   \n",
       "\n",
       "        SGD       TRY       USD         L         M         S  \n",
       "0 -0.057496 -0.070476 -1.379966  1.437239 -1.077099 -0.397991  \n",
       "1 -0.057496 -0.070476  0.724656 -0.695778 -1.077099  2.512619  \n",
       "2 -0.057496 -0.070476 -1.379966 -0.695778  0.928420 -0.397991  \n",
       "3 -0.057496 -0.070476  0.724656 -0.695778 -1.077099  2.512619  \n",
       "4 -0.057496 -0.070476  0.724656  1.437239 -1.077099 -0.397991  \n",
       "\n",
       "[5 rows x 30 columns]"
      ]
     },
     "execution_count": 28,
     "metadata": {},
     "output_type": "execute_result"
    }
   ],
   "source": [
    "from sklearn.preprocessing import StandardScaler\n",
    "\n",
    "feature = df_v3.drop(columns=['salary_in_usd'])\n",
    "target = df_v3['salary_in_usd']\n",
    "\n",
    "scaler = StandardScaler()\n",
    "scaler.fit(feature)\n",
    "feature_scaled = scaler.transform(feature)\n",
    "feature_scaled = pd.DataFrame(feature_scaled, columns=feature.columns, index=feature.index)\n",
    "feature_scaled.head()"
   ]
  },
  {
   "cell_type": "code",
   "execution_count": 29,
   "id": "5386f1c5",
   "metadata": {
    "execution": {
     "iopub.execute_input": "2022-06-17T14:07:50.201653Z",
     "iopub.status.busy": "2022-06-17T14:07:50.200923Z",
     "iopub.status.idle": "2022-06-17T14:07:50.209507Z",
     "shell.execute_reply": "2022-06-17T14:07:50.208677Z"
    },
    "papermill": {
     "duration": 0.03435,
     "end_time": "2022-06-17T14:07:50.211588",
     "exception": false,
     "start_time": "2022-06-17T14:07:50.177238",
     "status": "completed"
    },
    "tags": []
   },
   "outputs": [
    {
     "data": {
      "text/plain": [
       "array([[-0.45790445],\n",
       "       [ 2.08328151],\n",
       "       [-0.04617667],\n",
       "       [-1.30182581],\n",
       "       [ 0.53177399]])"
      ]
     },
     "execution_count": 29,
     "metadata": {},
     "output_type": "execute_result"
    }
   ],
   "source": [
    "scaler_target = StandardScaler()\n",
    "target_scaled = scaler_target.fit_transform(target.values.reshape(-1, 1))\n",
    "target_scaled[0:5]"
   ]
  },
  {
   "cell_type": "code",
   "execution_count": 30,
   "id": "190ff2cc",
   "metadata": {
    "execution": {
     "iopub.execute_input": "2022-06-17T14:07:50.257172Z",
     "iopub.status.busy": "2022-06-17T14:07:50.256254Z",
     "iopub.status.idle": "2022-06-17T14:07:50.275526Z",
     "shell.execute_reply": "2022-06-17T14:07:50.274903Z"
    },
    "papermill": {
     "duration": 0.044551,
     "end_time": "2022-06-17T14:07:50.277716",
     "exception": false,
     "start_time": "2022-06-17T14:07:50.233165",
     "status": "completed"
    },
    "tags": []
   },
   "outputs": [],
   "source": [
    "# Divide in train and test\n",
    "from sklearn.model_selection import train_test_split\n",
    "X_train, X_test, y_train, y_test = train_test_split(feature_scaled , target_scaled, \n",
    "                                                    shuffle = True, \n",
    "                                                    test_size=0.2, \n",
    "                                                    random_state=1)"
   ]
  },
  {
   "cell_type": "code",
   "execution_count": 31,
   "id": "014de4cd",
   "metadata": {
    "execution": {
     "iopub.execute_input": "2022-06-17T14:07:50.322416Z",
     "iopub.status.busy": "2022-06-17T14:07:50.321728Z",
     "iopub.status.idle": "2022-06-17T14:07:50.421998Z",
     "shell.execute_reply": "2022-06-17T14:07:50.420865Z"
    },
    "papermill": {
     "duration": 0.126282,
     "end_time": "2022-06-17T14:07:50.425418",
     "exception": false,
     "start_time": "2022-06-17T14:07:50.299136",
     "status": "completed"
    },
    "tags": []
   },
   "outputs": [
    {
     "data": {
      "text/plain": [
       "0.3847537059155601"
      ]
     },
     "execution_count": 31,
     "metadata": {},
     "output_type": "execute_result"
    }
   ],
   "source": [
    "from sklearn.linear_model import LinearRegression\n",
    "\n",
    "model = LinearRegression()\n",
    "model.fit(X_train, y_train)\n",
    "y_predict = model.predict(X_test)\n",
    "mean_squared_error(y_test, y_predict)"
   ]
  },
  {
   "cell_type": "code",
   "execution_count": 32,
   "id": "b0460f28",
   "metadata": {
    "execution": {
     "iopub.execute_input": "2022-06-17T14:07:50.509393Z",
     "iopub.status.busy": "2022-06-17T14:07:50.508802Z",
     "iopub.status.idle": "2022-06-17T14:07:50.553830Z",
     "shell.execute_reply": "2022-06-17T14:07:50.552342Z"
    },
    "papermill": {
     "duration": 0.089194,
     "end_time": "2022-06-17T14:07:50.555836",
     "exception": false,
     "start_time": "2022-06-17T14:07:50.466642",
     "status": "completed"
    },
    "tags": []
   },
   "outputs": [
    {
     "name": "stderr",
     "output_type": "stream",
     "text": [
      "/opt/conda/lib/python3.7/site-packages/sklearn/utils/validation.py:993: DataConversionWarning: A column-vector y was passed when a 1d array was expected. Please change the shape of y to (n_samples, ), for example using ravel().\n",
      "  y = column_or_1d(y, warn=True)\n"
     ]
    },
    {
     "data": {
      "text/plain": [
       "0.38325981011167937"
      ]
     },
     "execution_count": 32,
     "metadata": {},
     "output_type": "execute_result"
    }
   ],
   "source": [
    "from sklearn.svm import SVR\n",
    "\n",
    "model = SVR()\n",
    "model.fit(X_train, y_train)\n",
    "y_predict = model.predict(X_test)\n",
    "mean_squared_error(y_test, y_predict)"
   ]
  },
  {
   "cell_type": "code",
   "execution_count": 33,
   "id": "01acbd23",
   "metadata": {
    "execution": {
     "iopub.execute_input": "2022-06-17T14:07:50.601335Z",
     "iopub.status.busy": "2022-06-17T14:07:50.600707Z",
     "iopub.status.idle": "2022-06-17T14:07:50.681730Z",
     "shell.execute_reply": "2022-06-17T14:07:50.681072Z"
    },
    "papermill": {
     "duration": 0.106437,
     "end_time": "2022-06-17T14:07:50.684022",
     "exception": false,
     "start_time": "2022-06-17T14:07:50.577585",
     "status": "completed"
    },
    "tags": []
   },
   "outputs": [
    {
     "data": {
      "text/plain": [
       "0.8189975495132173"
      ]
     },
     "execution_count": 33,
     "metadata": {},
     "output_type": "execute_result"
    }
   ],
   "source": [
    "from sklearn.tree import DecisionTreeRegressor\n",
    "\n",
    "model = DecisionTreeRegressor()\n",
    "model.fit(X_train, y_train)\n",
    "y_predict = model.predict(X_test)\n",
    "mean_squared_error(y_test, y_predict)"
   ]
  },
  {
   "cell_type": "code",
   "execution_count": 34,
   "id": "7d2eaab2",
   "metadata": {
    "execution": {
     "iopub.execute_input": "2022-06-17T14:07:50.729715Z",
     "iopub.status.busy": "2022-06-17T14:07:50.729022Z",
     "iopub.status.idle": "2022-06-17T14:07:59.440499Z",
     "shell.execute_reply": "2022-06-17T14:07:59.439398Z"
    },
    "papermill": {
     "duration": 8.737509,
     "end_time": "2022-06-17T14:07:59.443499",
     "exception": false,
     "start_time": "2022-06-17T14:07:50.705990",
     "status": "completed"
    },
    "tags": []
   },
   "outputs": [
    {
     "name": "stderr",
     "output_type": "stream",
     "text": [
      "2022-06-17 14:07:52.018465: I tensorflow/core/common_runtime/process_util.cc:146] Creating new thread pool with default inter op setting: 2. Tune using inter_op_parallelism_threads for best performance.\n",
      "2022-06-17 14:07:52.175539: I tensorflow/compiler/mlir/mlir_graph_optimization_pass.cc:185] None of the MLIR Optimization Passes are enabled (registered 2)\n"
     ]
    },
    {
     "name": "stdout",
     "output_type": "stream",
     "text": [
      "Epoch 1/100\n",
      "16/16 [==============================] - 1s 14ms/step - loss: 0.9144 - val_loss: 0.4716\n",
      "Epoch 2/100\n",
      "16/16 [==============================] - 0s 4ms/step - loss: 0.6837 - val_loss: 0.3673\n",
      "Epoch 3/100\n",
      "16/16 [==============================] - 0s 4ms/step - loss: 0.6387 - val_loss: 0.3866\n",
      "Epoch 4/100\n",
      "16/16 [==============================] - 0s 4ms/step - loss: 0.6171 - val_loss: 0.3926\n",
      "Epoch 5/100\n",
      "16/16 [==============================] - 0s 4ms/step - loss: 0.6162 - val_loss: 0.3857\n",
      "Epoch 6/100\n",
      "16/16 [==============================] - 0s 4ms/step - loss: 0.6105 - val_loss: 0.3715\n",
      "Epoch 7/100\n",
      "16/16 [==============================] - 0s 4ms/step - loss: 0.6182 - val_loss: 0.4013\n",
      "Epoch 8/100\n",
      "16/16 [==============================] - 0s 4ms/step - loss: 0.6152 - val_loss: 0.3756\n",
      "Epoch 9/100\n",
      "16/16 [==============================] - 0s 4ms/step - loss: 0.6155 - val_loss: 0.3821\n",
      "Epoch 10/100\n",
      "16/16 [==============================] - 0s 4ms/step - loss: 0.6279 - val_loss: 0.4057\n",
      "Epoch 11/100\n",
      "16/16 [==============================] - 0s 4ms/step - loss: 0.6277 - val_loss: 0.4111\n",
      "Epoch 12/100\n",
      "16/16 [==============================] - 0s 4ms/step - loss: 0.6490 - val_loss: 0.4058\n",
      "Epoch 13/100\n",
      "16/16 [==============================] - 0s 4ms/step - loss: 0.6242 - val_loss: 0.3860\n",
      "Epoch 14/100\n",
      "16/16 [==============================] - 0s 4ms/step - loss: 0.6103 - val_loss: 0.3646\n",
      "Epoch 15/100\n",
      "16/16 [==============================] - 0s 4ms/step - loss: 0.6173 - val_loss: 0.3728\n",
      "Epoch 16/100\n",
      "16/16 [==============================] - 0s 4ms/step - loss: 0.6122 - val_loss: 0.3933\n",
      "Epoch 17/100\n",
      "16/16 [==============================] - 0s 4ms/step - loss: 0.6133 - val_loss: 0.3833\n",
      "Epoch 18/100\n",
      "16/16 [==============================] - 0s 4ms/step - loss: 0.6095 - val_loss: 0.3973\n",
      "Epoch 19/100\n",
      "16/16 [==============================] - 0s 4ms/step - loss: 0.6179 - val_loss: 0.3733\n",
      "Epoch 20/100\n",
      "16/16 [==============================] - 0s 4ms/step - loss: 0.6148 - val_loss: 0.3881\n",
      "Epoch 21/100\n",
      "16/16 [==============================] - 0s 4ms/step - loss: 0.6517 - val_loss: 0.4106\n",
      "Epoch 22/100\n",
      "16/16 [==============================] - 0s 4ms/step - loss: 0.6157 - val_loss: 0.3849\n",
      "Epoch 23/100\n",
      "16/16 [==============================] - 0s 4ms/step - loss: 0.6188 - val_loss: 0.4201\n",
      "Epoch 24/100\n",
      "16/16 [==============================] - 0s 4ms/step - loss: 0.6356 - val_loss: 0.4309\n",
      "Epoch 25/100\n",
      "16/16 [==============================] - 0s 5ms/step - loss: 0.6117 - val_loss: 0.3740\n",
      "Epoch 26/100\n",
      "16/16 [==============================] - 0s 4ms/step - loss: 0.6244 - val_loss: 0.4098\n",
      "Epoch 27/100\n",
      "16/16 [==============================] - 0s 4ms/step - loss: 0.6158 - val_loss: 0.3984\n",
      "Epoch 28/100\n",
      "16/16 [==============================] - 0s 4ms/step - loss: 0.6143 - val_loss: 0.3899\n",
      "Epoch 29/100\n",
      "16/16 [==============================] - 0s 5ms/step - loss: 0.6248 - val_loss: 0.3926\n",
      "Epoch 30/100\n",
      "16/16 [==============================] - 0s 4ms/step - loss: 0.6116 - val_loss: 0.3974\n",
      "Epoch 31/100\n",
      "16/16 [==============================] - 0s 4ms/step - loss: 0.6096 - val_loss: 0.3873\n",
      "Epoch 32/100\n",
      "16/16 [==============================] - 0s 4ms/step - loss: 0.6189 - val_loss: 0.4099\n",
      "Epoch 33/100\n",
      "16/16 [==============================] - 0s 4ms/step - loss: 0.6084 - val_loss: 0.3790\n",
      "Epoch 34/100\n",
      "16/16 [==============================] - 0s 4ms/step - loss: 0.6119 - val_loss: 0.3873\n",
      "Epoch 35/100\n",
      "16/16 [==============================] - 0s 4ms/step - loss: 0.6194 - val_loss: 0.3703\n",
      "Epoch 36/100\n",
      "16/16 [==============================] - 0s 4ms/step - loss: 0.6192 - val_loss: 0.4023\n",
      "Epoch 37/100\n",
      "16/16 [==============================] - 0s 4ms/step - loss: 0.6222 - val_loss: 0.4037\n",
      "Epoch 38/100\n",
      "16/16 [==============================] - 0s 4ms/step - loss: 0.6195 - val_loss: 0.3782\n",
      "Epoch 39/100\n",
      "16/16 [==============================] - 0s 4ms/step - loss: 0.6095 - val_loss: 0.3860\n",
      "Epoch 40/100\n",
      "16/16 [==============================] - 0s 4ms/step - loss: 0.6092 - val_loss: 0.3780\n",
      "Epoch 41/100\n",
      "16/16 [==============================] - 0s 5ms/step - loss: 0.6266 - val_loss: 0.4301\n",
      "Epoch 42/100\n",
      "16/16 [==============================] - 0s 4ms/step - loss: 0.6315 - val_loss: 0.4301\n",
      "Epoch 43/100\n",
      "16/16 [==============================] - 0s 4ms/step - loss: 0.6416 - val_loss: 0.4439\n",
      "Epoch 44/100\n",
      "16/16 [==============================] - 0s 4ms/step - loss: 0.6232 - val_loss: 0.3873\n",
      "Epoch 45/100\n",
      "16/16 [==============================] - 0s 4ms/step - loss: 0.6197 - val_loss: 0.4001\n",
      "Epoch 46/100\n",
      "16/16 [==============================] - 0s 4ms/step - loss: 0.6104 - val_loss: 0.3816\n",
      "Epoch 47/100\n",
      "16/16 [==============================] - 0s 4ms/step - loss: 0.6115 - val_loss: 0.3698\n",
      "Epoch 48/100\n",
      "16/16 [==============================] - 0s 4ms/step - loss: 0.6186 - val_loss: 0.3677\n",
      "Epoch 49/100\n",
      "16/16 [==============================] - 0s 4ms/step - loss: 0.6114 - val_loss: 0.3790\n",
      "Epoch 50/100\n",
      "16/16 [==============================] - 0s 4ms/step - loss: 0.6051 - val_loss: 0.3862\n",
      "Epoch 51/100\n",
      "16/16 [==============================] - 0s 4ms/step - loss: 0.6107 - val_loss: 0.4131\n",
      "Epoch 52/100\n",
      "16/16 [==============================] - 0s 4ms/step - loss: 0.6071 - val_loss: 0.3569\n",
      "Epoch 53/100\n",
      "16/16 [==============================] - 0s 4ms/step - loss: 0.6134 - val_loss: 0.4001\n",
      "Epoch 54/100\n",
      "16/16 [==============================] - 0s 4ms/step - loss: 0.6110 - val_loss: 0.3774\n",
      "Epoch 55/100\n",
      "16/16 [==============================] - 0s 4ms/step - loss: 0.6077 - val_loss: 0.3849\n",
      "Epoch 56/100\n",
      "16/16 [==============================] - 0s 4ms/step - loss: 0.6054 - val_loss: 0.3758\n",
      "Epoch 57/100\n",
      "16/16 [==============================] - 0s 4ms/step - loss: 0.6111 - val_loss: 0.3696\n",
      "Epoch 58/100\n",
      "16/16 [==============================] - 0s 4ms/step - loss: 0.6108 - val_loss: 0.4258\n",
      "Epoch 59/100\n",
      "16/16 [==============================] - 0s 4ms/step - loss: 0.6250 - val_loss: 0.3813\n",
      "Epoch 60/100\n",
      "16/16 [==============================] - 0s 4ms/step - loss: 0.6123 - val_loss: 0.3811\n",
      "Epoch 61/100\n",
      "16/16 [==============================] - 0s 4ms/step - loss: 0.6066 - val_loss: 0.3931\n",
      "Epoch 62/100\n",
      "16/16 [==============================] - 0s 4ms/step - loss: 0.6093 - val_loss: 0.3771\n",
      "Epoch 63/100\n",
      "16/16 [==============================] - 0s 4ms/step - loss: 0.6036 - val_loss: 0.3754\n",
      "Epoch 64/100\n",
      "16/16 [==============================] - 0s 4ms/step - loss: 0.6018 - val_loss: 0.3956\n",
      "Epoch 65/100\n",
      "16/16 [==============================] - 0s 4ms/step - loss: 0.6027 - val_loss: 0.3673\n",
      "Epoch 66/100\n",
      "16/16 [==============================] - 0s 4ms/step - loss: 0.6106 - val_loss: 0.4013\n",
      "Epoch 67/100\n",
      "16/16 [==============================] - 0s 4ms/step - loss: 0.6305 - val_loss: 0.3732\n",
      "Epoch 68/100\n",
      "16/16 [==============================] - 0s 4ms/step - loss: 0.6078 - val_loss: 0.3799\n",
      "Epoch 69/100\n",
      "16/16 [==============================] - 0s 4ms/step - loss: 0.6090 - val_loss: 0.3662\n",
      "Epoch 70/100\n",
      "16/16 [==============================] - 0s 4ms/step - loss: 0.6100 - val_loss: 0.3831\n",
      "Epoch 71/100\n",
      "16/16 [==============================] - 0s 4ms/step - loss: 0.6021 - val_loss: 0.3933\n",
      "Epoch 72/100\n",
      "16/16 [==============================] - 0s 4ms/step - loss: 0.6102 - val_loss: 0.3998\n",
      "Epoch 73/100\n",
      "16/16 [==============================] - 0s 4ms/step - loss: 0.6117 - val_loss: 0.4107\n",
      "Epoch 74/100\n",
      "16/16 [==============================] - 0s 4ms/step - loss: 0.6139 - val_loss: 0.3709\n",
      "Epoch 75/100\n",
      "16/16 [==============================] - 0s 4ms/step - loss: 0.5946 - val_loss: 0.4088\n",
      "Epoch 76/100\n",
      "16/16 [==============================] - 0s 4ms/step - loss: 0.6237 - val_loss: 0.3893\n",
      "Epoch 77/100\n",
      "16/16 [==============================] - 0s 4ms/step - loss: 0.6109 - val_loss: 0.3804\n",
      "Epoch 78/100\n",
      "16/16 [==============================] - 0s 4ms/step - loss: 0.6213 - val_loss: 0.3965\n",
      "Epoch 79/100\n",
      "16/16 [==============================] - 0s 4ms/step - loss: 0.5970 - val_loss: 0.3784\n",
      "Epoch 80/100\n",
      "16/16 [==============================] - 0s 4ms/step - loss: 0.6222 - val_loss: 0.4143\n",
      "Epoch 81/100\n",
      "16/16 [==============================] - 0s 4ms/step - loss: 0.6166 - val_loss: 0.4204\n",
      "Epoch 82/100\n",
      "16/16 [==============================] - 0s 4ms/step - loss: 0.6260 - val_loss: 0.4111\n",
      "Epoch 83/100\n",
      "16/16 [==============================] - 0s 4ms/step - loss: 0.6020 - val_loss: 0.3849\n",
      "Epoch 84/100\n",
      "16/16 [==============================] - 0s 4ms/step - loss: 0.6018 - val_loss: 0.3834\n",
      "Epoch 85/100\n",
      "16/16 [==============================] - 0s 4ms/step - loss: 0.6029 - val_loss: 0.3931\n",
      "Epoch 86/100\n",
      "16/16 [==============================] - 0s 4ms/step - loss: 0.5923 - val_loss: 0.3821\n",
      "Epoch 87/100\n",
      "16/16 [==============================] - 0s 4ms/step - loss: 0.5910 - val_loss: 0.3895\n",
      "Epoch 88/100\n",
      "16/16 [==============================] - 0s 4ms/step - loss: 0.5930 - val_loss: 0.3805\n",
      "Epoch 89/100\n",
      "16/16 [==============================] - 0s 4ms/step - loss: 0.5894 - val_loss: 0.3840\n",
      "Epoch 90/100\n",
      "16/16 [==============================] - 0s 4ms/step - loss: 0.5900 - val_loss: 0.3840\n",
      "Epoch 91/100\n",
      "16/16 [==============================] - 0s 4ms/step - loss: 0.5860 - val_loss: 0.3730\n",
      "Epoch 92/100\n",
      "16/16 [==============================] - 0s 4ms/step - loss: 0.5868 - val_loss: 0.3774\n",
      "Epoch 93/100\n",
      "16/16 [==============================] - 0s 4ms/step - loss: 0.5972 - val_loss: 0.3967\n",
      "Epoch 94/100\n",
      "16/16 [==============================] - 0s 4ms/step - loss: 0.5888 - val_loss: 0.3738\n",
      "Epoch 95/100\n",
      "16/16 [==============================] - 0s 4ms/step - loss: 0.5941 - val_loss: 0.3799\n",
      "Epoch 96/100\n",
      "16/16 [==============================] - 0s 4ms/step - loss: 0.6004 - val_loss: 0.3836\n",
      "Epoch 97/100\n",
      "16/16 [==============================] - 0s 4ms/step - loss: 0.5824 - val_loss: 0.3823\n",
      "Epoch 98/100\n",
      "16/16 [==============================] - 0s 4ms/step - loss: 0.5864 - val_loss: 0.3889\n",
      "Epoch 99/100\n",
      "16/16 [==============================] - 0s 4ms/step - loss: 0.5804 - val_loss: 0.3835\n",
      "Epoch 100/100\n",
      "16/16 [==============================] - 0s 4ms/step - loss: 0.5829 - val_loss: 0.4069\n"
     ]
    }
   ],
   "source": [
    "model = keras.Sequential([\n",
    "    keras.layers.Dense(128, activation='linear', input_dim=X_train.shape[1]),\n",
    "     keras.layers.Dense(256 ,kernel_initializer='random_uniform', activation='sigmoid', use_bias=False),\n",
    "    keras.layers.Dense(1,  kernel_initializer='random_uniform', activation='linear', use_bias=False)\n",
    "  ])\n",
    "model.compile(loss='mean_squared_error', optimizer='adam')\n",
    "result = model.fit(X_train, y_train, epochs=100, validation_data=(X_test, y_test))"
   ]
  },
  {
   "cell_type": "code",
   "execution_count": 35,
   "id": "df65feb4",
   "metadata": {
    "execution": {
     "iopub.execute_input": "2022-06-17T14:07:59.523002Z",
     "iopub.status.busy": "2022-06-17T14:07:59.522173Z",
     "iopub.status.idle": "2022-06-17T14:07:59.757854Z",
     "shell.execute_reply": "2022-06-17T14:07:59.756867Z"
    },
    "papermill": {
     "duration": 0.277531,
     "end_time": "2022-06-17T14:07:59.760059",
     "exception": false,
     "start_time": "2022-06-17T14:07:59.482528",
     "status": "completed"
    },
    "tags": []
   },
   "outputs": [
    {
     "data": {
      "text/plain": [
       "Text(0, 0.5, 'Cost')"
      ]
     },
     "execution_count": 35,
     "metadata": {},
     "output_type": "execute_result"
    },
    {
     "data": {
      "image/png": "[encoded data removed]",
      "text/plain": [
       "<Figure size 1080x576 with 1 Axes>"
      ]
     },
     "metadata": {
      "needs_background": "light"
     },
     "output_type": "display_data"
    }
   ],
   "source": [
    "plt.figure(figsize=(15,8))\n",
    "plt.plot(result.history['loss'])\n",
    "plt.plot(result.history['val_loss'])\n",
    "plt.legend(['Train', 'Test'])\n",
    "plt.xlabel('Epochs')\n",
    "plt.ylabel('Cost')"
   ]
  },
  {
   "cell_type": "markdown",
   "id": "d0bb7f4b",
   "metadata": {
    "papermill": {
     "duration": 0.038531,
     "end_time": "2022-06-17T14:07:59.838009",
     "exception": false,
     "start_time": "2022-06-17T14:07:59.799478",
     "status": "completed"
    },
    "tags": []
   },
   "source": [
    "Not the best results, right? But i will study more and improve this one when i have time"
   ]
  },
  {
   "cell_type": "markdown",
   "id": "02033232",
   "metadata": {
    "papermill": {
     "duration": 0.038688,
     "end_time": "2022-06-17T14:07:59.915543",
     "exception": false,
     "start_time": "2022-06-17T14:07:59.876855",
     "status": "completed"
    },
    "tags": []
   },
   "source": [
    "If you have any suggestion or changes, just comment!"
   ]
  }
 ],
 "metadata": {
  "kernelspec": {
   "display_name": "Python 3",
   "language": "python",
   "name": "python3"
  },
  "language_info": {
   "codemirror_mode": {
    "name": "ipython",
    "version": 3
   },
   "file_extension": ".py",
   "mimetype": "text/x-python",
   "name": "python",
   "nbconvert_exporter": "python",
   "pygments_lexer": "ipython3",
   "version": "3.7.12"
  },
  "papermill": {
   "default_parameters": {},
   "duration": 34.515995,
   "end_time": "2022-06-17T14:08:02.685885",
   "environment_variables": {},
   "exception": null,
   "input_path": "__notebook__.ipynb",
   "output_path": "__notebook__.ipynb",
   "parameters": {},
   "start_time": "2022-06-17T14:07:28.169890",
   "version": "2.3.4"
  }
 },
 "nbformat": 4,
 "nbformat_minor": 5
}
